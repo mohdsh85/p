{
  "nbformat": 4,
  "nbformat_minor": 0,
  "metadata": {
    "kernelspec": {
      "display_name": "Python 3",
      "language": "python",
      "name": "python3"
    },
    "language_info": {
      "codemirror_mode": {
        "name": "ipython",
        "version": 3
      },
      "file_extension": ".py",
      "mimetype": "text/x-python",
      "name": "python",
      "nbconvert_exporter": "python",
      "pygments_lexer": "ipython3",
      "version": "3.6.0"
    },
    "colab": {
      "name": "ch06.ipynb",
      "provenance": [],
      "toc_visible": true,
      "include_colab_link": true
    }
  },
  "cells": [
    {
      "cell_type": "markdown",
      "metadata": {
        "id": "view-in-github",
        "colab_type": "text"
      },
      "source": [
        "<a href=\"https://colab.research.google.com/github/smabb/p/blob/master/Data_loading.ipynb\" target=\"_parent\"><img src=\"https://colab.research.google.com/assets/colab-badge.svg\" alt=\"Open In Colab\"/></a>"
      ]
    },
    {
      "cell_type": "markdown",
      "metadata": {
        "deletable": true,
        "editable": true,
        "id": "8UW18_nPYfbY",
        "colab_type": "text"
      },
      "source": [
        "# Data Loading, Storage, "
      ]
    },
    {
      "cell_type": "markdown",
      "metadata": {
        "id": "io1-mCgsYkS-",
        "colab_type": "text"
      },
      "source": [
        "Accessing data is a necessary first step . I’m\n",
        "going to be focused on data input and output using pandas, though there are numerous\n",
        "tools in other libraries to help with reading and writing data in various formats.\n",
        "Input and output typically falls into a few main categories: reading text files and other\n",
        "more efficient on-disk formats, loading data from databases, and interacting with network\n",
        "sources like web APIs."
      ]
    },
    {
      "cell_type": "code",
      "metadata": {
        "deletable": true,
        "editable": true,
        "id": "xwDr33VQYfbk",
        "colab_type": "code",
        "colab": {}
      },
      "source": [
        "import numpy as np\n",
        "import pandas as pd\n",
        "np.random.seed(12345)\n",
        "import matplotlib.pyplot as plt\n",
        "plt.rc('figure', figsize=(10, 6))\n",
        "np.set_printoptions(precision=4, suppress=True)"
      ],
      "execution_count": 0,
      "outputs": []
    },
    {
      "cell_type": "markdown",
      "metadata": {
        "deletable": true,
        "editable": true,
        "id": "YeK4V0YVYfb6",
        "colab_type": "text"
      },
      "source": [
        "## Reading and Writing Data in Text Format"
      ]
    },
    {
      "cell_type": "markdown",
      "metadata": {
        "id": "kaTOR5o2Y9S9",
        "colab_type": "text"
      },
      "source": [
        "Pandas features a number of functions for reading tabular data as a DataFrame\n",
        "object. Table 6-1 summarizes some of them."
      ]
    },
    {
      "cell_type": "markdown",
      "metadata": {
        "id": "wrgcSPfjZGqU",
        "colab_type": "text"
      },
      "source": [
        "* `read_csv`                 Load delimited data from a file, URL, or file-like object; use comma as default delimiter\n",
        "\n",
        "* `read_table` Load delimited data from a file, URL, or file-like object; use tab ('\\t') as default delimiter\n",
        "\n",
        "* `read_fwf` Read data in fixed-width column format (i.e., no delimiters)\n",
        "\n",
        "* `read_clipboard` Version of read_table that reads data from the clipboard; useful for converting tables from web\n",
        "pages\n",
        "\n",
        "* `read_excel` Read tabular data from an Excel XLS or XLSX file\n",
        "\n",
        "* `read_hdf` Read HDF5 files written by pandas\n",
        "\n",
        "* `read_html` Read all tables found in the given HTML document\n",
        "\n",
        "* `read_json` Read data from a JSON (JavaScript Object Notation) string \n",
        "representation\n",
        "\n",
        "* `read_msgpack` Read pandas data encoded using the MessagePack binary format\n",
        "\n",
        "* `read_pickle` Read an arbitrary object stored in Python pickle format\n",
        "* `read_sas` Read a SAS dataset stored in one of the SAS system’s custom storage formats\n",
        "\n",
        "* `read_sql` Read the results of a SQL query (using SQLAlchemy) as a pandas DataFrame\n",
        "\n",
        "* `read_stata` Read a dataset from Stata file format\n",
        "\n",
        "* `read_feather` Read the Feather binary file format"
      ]
    },
    {
      "cell_type": "markdown",
      "metadata": {
        "id": "GOXU-WOKa37k",
        "colab_type": "text"
      },
      "source": [
        "An overview of the mechanics of these functions, which are meant to convert\n",
        "text data into a DataFrame. The optional arguments for these functions may fall into\n",
        "a few categories:\n",
        "\n",
        "Indexing\n",
        "\n",
        "Can treat one or more columns as the returned DataFrame, and whether to get\n",
        "column names from the file, the user, or not at all.\n",
        "\n",
        "Type inference and data conversion\n",
        "\n",
        "This includes the user-defined value conversions and custom list of missing value\n",
        "markers.\n",
        "\n",
        "Datetime parsing\n",
        "\n",
        "Includes combining capability, including combining date and time information\n",
        "spread over multiple columns into a single column in the result.\n",
        "\n",
        "Iterating\n",
        "\n",
        "Support for iterating over chunks of very large files.\n",
        "\n",
        "Unclean data issues\n",
        "\n",
        "Skipping rows or a footer, comments, or other minor things like numeric data\n",
        "with thousands separated by commas.\n",
        "\n",
        "\n",
        "Because of how messy data in the real world can be, some of the data loading functions\n",
        "(especially read_csv) have grown very complex in their options over time. It’s\n",
        "normal to feel overwhelmed by the number of different parameters (read_csv has\n",
        "over 50 as of this writing). The online pandas documentation has many examples\n",
        "about how each of them works, so if you’re struggling to read a particular file, there\n",
        "might be a similar enough example to help you find the right parameters.\n",
        "Some of these functions, like pandas.read_csv, perform type inference, because the\n",
        "column data types are not part of the data format. That means you don’t necessarily\n",
        "have to specify which columns are numeric, integer, boolean, or string. Other data\n",
        "formats, like HDF5, Feather, and msgpack, have the data types stored in the format."
      ]
    },
    {
      "cell_type": "markdown",
      "metadata": {
        "id": "-wZ8GfSkbWaW",
        "colab_type": "text"
      },
      "source": [
        "Handling dates and other custom types can require extra effort. Let’s start with a\n",
        "small comma-separated (CSV) text file:"
      ]
    },
    {
      "cell_type": "code",
      "metadata": {
        "deletable": true,
        "editable": true,
        "id": "87Z6mT3HYfb-",
        "colab_type": "code",
        "colab": {
          "base_uri": "https://localhost:8080/",
          "height": 90
        },
        "outputId": "ecc238e9-72f2-4a82-e598-52d9ac58b357"
      },
      "source": [
        "!cat ex1.csv"
      ],
      "execution_count": 3,
      "outputs": [
        {
          "output_type": "stream",
          "text": [
            "a,b,c,d,message\n",
            "1,2,3,4,hello\n",
            "5,6,7,8,world\n",
            "9,10,11,12,foo"
          ],
          "name": "stdout"
        }
      ]
    },
    {
      "cell_type": "markdown",
      "metadata": {
        "id": "E1HxkGoFbveb",
        "colab_type": "text"
      },
      "source": [
        "Since this is comma-delimited, we can use read_csv to read it into a DataFrame:"
      ]
    },
    {
      "cell_type": "code",
      "metadata": {
        "deletable": true,
        "editable": true,
        "id": "yBPoNXv6YfcK",
        "colab_type": "code",
        "colab": {
          "base_uri": "https://localhost:8080/",
          "height": 143
        },
        "outputId": "f3d751d9-4a4c-4a67-9c29-ecef4980670b"
      },
      "source": [
        "df = pd.read_csv('ex1.csv')\n",
        "df"
      ],
      "execution_count": 6,
      "outputs": [
        {
          "output_type": "execute_result",
          "data": {
            "text/html": [
              "<div>\n",
              "<style scoped>\n",
              "    .dataframe tbody tr th:only-of-type {\n",
              "        vertical-align: middle;\n",
              "    }\n",
              "\n",
              "    .dataframe tbody tr th {\n",
              "        vertical-align: top;\n",
              "    }\n",
              "\n",
              "    .dataframe thead th {\n",
              "        text-align: right;\n",
              "    }\n",
              "</style>\n",
              "<table border=\"1\" class=\"dataframe\">\n",
              "  <thead>\n",
              "    <tr style=\"text-align: right;\">\n",
              "      <th></th>\n",
              "      <th>a</th>\n",
              "      <th>b</th>\n",
              "      <th>c</th>\n",
              "      <th>d</th>\n",
              "      <th>message</th>\n",
              "    </tr>\n",
              "  </thead>\n",
              "  <tbody>\n",
              "    <tr>\n",
              "      <th>0</th>\n",
              "      <td>1</td>\n",
              "      <td>2</td>\n",
              "      <td>3</td>\n",
              "      <td>4</td>\n",
              "      <td>hello</td>\n",
              "    </tr>\n",
              "    <tr>\n",
              "      <th>1</th>\n",
              "      <td>5</td>\n",
              "      <td>6</td>\n",
              "      <td>7</td>\n",
              "      <td>8</td>\n",
              "      <td>world</td>\n",
              "    </tr>\n",
              "    <tr>\n",
              "      <th>2</th>\n",
              "      <td>9</td>\n",
              "      <td>10</td>\n",
              "      <td>11</td>\n",
              "      <td>12</td>\n",
              "      <td>foo</td>\n",
              "    </tr>\n",
              "  </tbody>\n",
              "</table>\n",
              "</div>"
            ],
            "text/plain": [
              "   a   b   c   d message\n",
              "0  1   2   3   4   hello\n",
              "1  5   6   7   8   world\n",
              "2  9  10  11  12     foo"
            ]
          },
          "metadata": {
            "tags": []
          },
          "execution_count": 6
        }
      ]
    },
    {
      "cell_type": "markdown",
      "metadata": {
        "id": "qR35kOjnby6Y",
        "colab_type": "text"
      },
      "source": [
        "We could also have used read_table and specified the delimiter:"
      ]
    },
    {
      "cell_type": "code",
      "metadata": {
        "deletable": true,
        "editable": true,
        "id": "VYiCjKE_YfcW",
        "colab_type": "code",
        "colab": {
          "base_uri": "https://localhost:8080/",
          "height": 143
        },
        "outputId": "83c1d82e-fa87-440b-8dab-a15569676d27"
      },
      "source": [
        "pd.read_table('ex1.csv', sep=',')"
      ],
      "execution_count": 7,
      "outputs": [
        {
          "output_type": "execute_result",
          "data": {
            "text/html": [
              "<div>\n",
              "<style scoped>\n",
              "    .dataframe tbody tr th:only-of-type {\n",
              "        vertical-align: middle;\n",
              "    }\n",
              "\n",
              "    .dataframe tbody tr th {\n",
              "        vertical-align: top;\n",
              "    }\n",
              "\n",
              "    .dataframe thead th {\n",
              "        text-align: right;\n",
              "    }\n",
              "</style>\n",
              "<table border=\"1\" class=\"dataframe\">\n",
              "  <thead>\n",
              "    <tr style=\"text-align: right;\">\n",
              "      <th></th>\n",
              "      <th>a</th>\n",
              "      <th>b</th>\n",
              "      <th>c</th>\n",
              "      <th>d</th>\n",
              "      <th>message</th>\n",
              "    </tr>\n",
              "  </thead>\n",
              "  <tbody>\n",
              "    <tr>\n",
              "      <th>0</th>\n",
              "      <td>1</td>\n",
              "      <td>2</td>\n",
              "      <td>3</td>\n",
              "      <td>4</td>\n",
              "      <td>hello</td>\n",
              "    </tr>\n",
              "    <tr>\n",
              "      <th>1</th>\n",
              "      <td>5</td>\n",
              "      <td>6</td>\n",
              "      <td>7</td>\n",
              "      <td>8</td>\n",
              "      <td>world</td>\n",
              "    </tr>\n",
              "    <tr>\n",
              "      <th>2</th>\n",
              "      <td>9</td>\n",
              "      <td>10</td>\n",
              "      <td>11</td>\n",
              "      <td>12</td>\n",
              "      <td>foo</td>\n",
              "    </tr>\n",
              "  </tbody>\n",
              "</table>\n",
              "</div>"
            ],
            "text/plain": [
              "   a   b   c   d message\n",
              "0  1   2   3   4   hello\n",
              "1  5   6   7   8   world\n",
              "2  9  10  11  12     foo"
            ]
          },
          "metadata": {
            "tags": []
          },
          "execution_count": 7
        }
      ]
    },
    {
      "cell_type": "markdown",
      "metadata": {
        "id": "GGIZAbX3b7Wb",
        "colab_type": "text"
      },
      "source": [
        "A file will not always have a header row. Consider this file:"
      ]
    },
    {
      "cell_type": "code",
      "metadata": {
        "deletable": true,
        "editable": true,
        "id": "mDJo5qQWYfcf",
        "colab_type": "code",
        "colab": {
          "base_uri": "https://localhost:8080/",
          "height": 72
        },
        "outputId": "d6b39ba2-a6ce-4330-beb2-183e2ae249fc"
      },
      "source": [
        "!cat ex2.csv"
      ],
      "execution_count": 9,
      "outputs": [
        {
          "output_type": "stream",
          "text": [
            "1,2,3,4,hello\n",
            "5,6,7,8,world\n",
            "9,10,11,12,foo"
          ],
          "name": "stdout"
        }
      ]
    },
    {
      "cell_type": "markdown",
      "metadata": {
        "id": "NBBnFHXOcNjY",
        "colab_type": "text"
      },
      "source": [
        "To read this file, you have a couple of options. You can allow pandas to assign default\n",
        "column names, or you can specify names yourself:"
      ]
    },
    {
      "cell_type": "code",
      "metadata": {
        "deletable": true,
        "editable": true,
        "id": "Kbtvg9X7Yfcq",
        "colab_type": "code",
        "colab": {
          "base_uri": "https://localhost:8080/",
          "height": 143
        },
        "outputId": "770c0b23-45ee-436b-f064-81664b87fd5e"
      },
      "source": [
        "pd.read_csv('ex2.csv', header=None)\n",
        "pd.read_csv('ex2.csv', names=['a', 'b', 'c', 'd', 'message'])"
      ],
      "execution_count": 16,
      "outputs": [
        {
          "output_type": "execute_result",
          "data": {
            "text/html": [
              "<div>\n",
              "<style scoped>\n",
              "    .dataframe tbody tr th:only-of-type {\n",
              "        vertical-align: middle;\n",
              "    }\n",
              "\n",
              "    .dataframe tbody tr th {\n",
              "        vertical-align: top;\n",
              "    }\n",
              "\n",
              "    .dataframe thead th {\n",
              "        text-align: right;\n",
              "    }\n",
              "</style>\n",
              "<table border=\"1\" class=\"dataframe\">\n",
              "  <thead>\n",
              "    <tr style=\"text-align: right;\">\n",
              "      <th></th>\n",
              "      <th>a</th>\n",
              "      <th>b</th>\n",
              "      <th>c</th>\n",
              "      <th>d</th>\n",
              "      <th>message</th>\n",
              "    </tr>\n",
              "  </thead>\n",
              "  <tbody>\n",
              "    <tr>\n",
              "      <th>0</th>\n",
              "      <td>1</td>\n",
              "      <td>2</td>\n",
              "      <td>3</td>\n",
              "      <td>4</td>\n",
              "      <td>hello</td>\n",
              "    </tr>\n",
              "    <tr>\n",
              "      <th>1</th>\n",
              "      <td>5</td>\n",
              "      <td>6</td>\n",
              "      <td>7</td>\n",
              "      <td>8</td>\n",
              "      <td>world</td>\n",
              "    </tr>\n",
              "    <tr>\n",
              "      <th>2</th>\n",
              "      <td>9</td>\n",
              "      <td>10</td>\n",
              "      <td>11</td>\n",
              "      <td>12</td>\n",
              "      <td>foo</td>\n",
              "    </tr>\n",
              "  </tbody>\n",
              "</table>\n",
              "</div>"
            ],
            "text/plain": [
              "   a   b   c   d message\n",
              "0  1   2   3   4   hello\n",
              "1  5   6   7   8   world\n",
              "2  9  10  11  12     foo"
            ]
          },
          "metadata": {
            "tags": []
          },
          "execution_count": 16
        }
      ]
    },
    {
      "cell_type": "markdown",
      "metadata": {
        "id": "9dCPJ9kDchAO",
        "colab_type": "text"
      },
      "source": [
        "Suppose you wanted the message column to be the index of the returned DataFrame.\n",
        "You can either indicate you want the column at index 4 or named 'message' using\n",
        "the index_col argument:"
      ]
    },
    {
      "cell_type": "code",
      "metadata": {
        "deletable": true,
        "editable": true,
        "id": "kuEgjSqsYfcw",
        "colab_type": "code",
        "colab": {
          "base_uri": "https://localhost:8080/",
          "height": 175
        },
        "outputId": "65d66f29-4e31-48d3-cc98-e284da6e41e6"
      },
      "source": [
        "names = ['a', 'b', 'c', 'd', 'message']\n",
        "pd.read_csv('ex2.csv', names=names, index_col='message')"
      ],
      "execution_count": 18,
      "outputs": [
        {
          "output_type": "execute_result",
          "data": {
            "text/html": [
              "<div>\n",
              "<style scoped>\n",
              "    .dataframe tbody tr th:only-of-type {\n",
              "        vertical-align: middle;\n",
              "    }\n",
              "\n",
              "    .dataframe tbody tr th {\n",
              "        vertical-align: top;\n",
              "    }\n",
              "\n",
              "    .dataframe thead th {\n",
              "        text-align: right;\n",
              "    }\n",
              "</style>\n",
              "<table border=\"1\" class=\"dataframe\">\n",
              "  <thead>\n",
              "    <tr style=\"text-align: right;\">\n",
              "      <th></th>\n",
              "      <th>a</th>\n",
              "      <th>b</th>\n",
              "      <th>c</th>\n",
              "      <th>d</th>\n",
              "    </tr>\n",
              "    <tr>\n",
              "      <th>message</th>\n",
              "      <th></th>\n",
              "      <th></th>\n",
              "      <th></th>\n",
              "      <th></th>\n",
              "    </tr>\n",
              "  </thead>\n",
              "  <tbody>\n",
              "    <tr>\n",
              "      <th>hello</th>\n",
              "      <td>1</td>\n",
              "      <td>2</td>\n",
              "      <td>3</td>\n",
              "      <td>4</td>\n",
              "    </tr>\n",
              "    <tr>\n",
              "      <th>world</th>\n",
              "      <td>5</td>\n",
              "      <td>6</td>\n",
              "      <td>7</td>\n",
              "      <td>8</td>\n",
              "    </tr>\n",
              "    <tr>\n",
              "      <th>foo</th>\n",
              "      <td>9</td>\n",
              "      <td>10</td>\n",
              "      <td>11</td>\n",
              "      <td>12</td>\n",
              "    </tr>\n",
              "  </tbody>\n",
              "</table>\n",
              "</div>"
            ],
            "text/plain": [
              "         a   b   c   d\n",
              "message               \n",
              "hello    1   2   3   4\n",
              "world    5   6   7   8\n",
              "foo      9  10  11  12"
            ]
          },
          "metadata": {
            "tags": []
          },
          "execution_count": 18
        }
      ]
    },
    {
      "cell_type": "markdown",
      "metadata": {
        "id": "p2lRpJyPcxy4",
        "colab_type": "text"
      },
      "source": [
        "Suppose you wanted the message column to be the index of the returned DataFrame.\n",
        "You can either indicate you want the column at index 4 or named 'message' using\n",
        "the index_col argument:"
      ]
    },
    {
      "cell_type": "code",
      "metadata": {
        "deletable": true,
        "editable": true,
        "id": "AtvPfAnVYfc4",
        "colab_type": "code",
        "colab": {
          "base_uri": "https://localhost:8080/",
          "height": 497
        },
        "outputId": "37d0406e-21dc-482b-f650-b6386f8c23b2"
      },
      "source": [
        "!cat csv_mindex.csv\n",
        "parsed = pd.read_csv('csv_mindex.csv',\n",
        "                     index_col=['key1', 'key2'])\n",
        "parsed"
      ],
      "execution_count": 21,
      "outputs": [
        {
          "output_type": "stream",
          "text": [
            "key1,key2,value1,value2\n",
            "one,a,1,2\n",
            "one,b,3,4\n",
            "one,c,5,6\n",
            "one,d,7,8\n",
            "two,a,9,10\n",
            "two,b,11,12\n",
            "two,c,13,14\n",
            "two,d,15,16\n"
          ],
          "name": "stdout"
        },
        {
          "output_type": "execute_result",
          "data": {
            "text/html": [
              "<div>\n",
              "<style scoped>\n",
              "    .dataframe tbody tr th:only-of-type {\n",
              "        vertical-align: middle;\n",
              "    }\n",
              "\n",
              "    .dataframe tbody tr th {\n",
              "        vertical-align: top;\n",
              "    }\n",
              "\n",
              "    .dataframe thead th {\n",
              "        text-align: right;\n",
              "    }\n",
              "</style>\n",
              "<table border=\"1\" class=\"dataframe\">\n",
              "  <thead>\n",
              "    <tr style=\"text-align: right;\">\n",
              "      <th></th>\n",
              "      <th></th>\n",
              "      <th>value1</th>\n",
              "      <th>value2</th>\n",
              "    </tr>\n",
              "    <tr>\n",
              "      <th>key1</th>\n",
              "      <th>key2</th>\n",
              "      <th></th>\n",
              "      <th></th>\n",
              "    </tr>\n",
              "  </thead>\n",
              "  <tbody>\n",
              "    <tr>\n",
              "      <th rowspan=\"4\" valign=\"top\">one</th>\n",
              "      <th>a</th>\n",
              "      <td>1</td>\n",
              "      <td>2</td>\n",
              "    </tr>\n",
              "    <tr>\n",
              "      <th>b</th>\n",
              "      <td>3</td>\n",
              "      <td>4</td>\n",
              "    </tr>\n",
              "    <tr>\n",
              "      <th>c</th>\n",
              "      <td>5</td>\n",
              "      <td>6</td>\n",
              "    </tr>\n",
              "    <tr>\n",
              "      <th>d</th>\n",
              "      <td>7</td>\n",
              "      <td>8</td>\n",
              "    </tr>\n",
              "    <tr>\n",
              "      <th rowspan=\"4\" valign=\"top\">two</th>\n",
              "      <th>a</th>\n",
              "      <td>9</td>\n",
              "      <td>10</td>\n",
              "    </tr>\n",
              "    <tr>\n",
              "      <th>b</th>\n",
              "      <td>11</td>\n",
              "      <td>12</td>\n",
              "    </tr>\n",
              "    <tr>\n",
              "      <th>c</th>\n",
              "      <td>13</td>\n",
              "      <td>14</td>\n",
              "    </tr>\n",
              "    <tr>\n",
              "      <th>d</th>\n",
              "      <td>15</td>\n",
              "      <td>16</td>\n",
              "    </tr>\n",
              "  </tbody>\n",
              "</table>\n",
              "</div>"
            ],
            "text/plain": [
              "           value1  value2\n",
              "key1 key2                \n",
              "one  a          1       2\n",
              "     b          3       4\n",
              "     c          5       6\n",
              "     d          7       8\n",
              "two  a          9      10\n",
              "     b         11      12\n",
              "     c         13      14\n",
              "     d         15      16"
            ]
          },
          "metadata": {
            "tags": []
          },
          "execution_count": 21
        }
      ]
    },
    {
      "cell_type": "markdown",
      "metadata": {
        "id": "DkAfB5UNdHxK",
        "colab_type": "text"
      },
      "source": [
        "In some cases, a table might not have a fixed delimiter, using whitespace or some\n",
        "other pattern to separate fields. Consider a text file that looks like this:"
      ]
    },
    {
      "cell_type": "code",
      "metadata": {
        "deletable": true,
        "editable": true,
        "id": "9Qaasss1YfdA",
        "colab_type": "code",
        "colab": {
          "base_uri": "https://localhost:8080/",
          "height": 109
        },
        "outputId": "6f192863-512c-4e3f-c7ae-255de487622f"
      },
      "source": [
        "list(open('ex3.txt'))"
      ],
      "execution_count": 22,
      "outputs": [
        {
          "output_type": "execute_result",
          "data": {
            "text/plain": [
              "['            A         B         C\\n',\n",
              " 'aaa -0.264438 -1.026059 -0.619500\\n',\n",
              " 'bbb  0.927272  0.302904 -0.032399\\n',\n",
              " 'ccc -0.264273 -0.386314 -0.217601\\n',\n",
              " 'ddd -0.871858 -0.348382  1.100491\\n']"
            ]
          },
          "metadata": {
            "tags": []
          },
          "execution_count": 22
        }
      ]
    },
    {
      "cell_type": "markdown",
      "metadata": {
        "id": "2GRmbnjLdX36",
        "colab_type": "text"
      },
      "source": [
        "While you could do some munging by hand, the fields here are separated by a variable\n",
        "amount of whitespace. In these cases, you can pass a regular expression as a\n",
        "delimiter for read_table. This can be expressed by the regular expression \\s+, so we\n",
        "have then:"
      ]
    },
    {
      "cell_type": "code",
      "metadata": {
        "deletable": true,
        "editable": true,
        "id": "KnQ9QBwbYfdH",
        "colab_type": "code",
        "colab": {
          "base_uri": "https://localhost:8080/",
          "height": 175
        },
        "outputId": "25e31b77-499c-4ba2-e9a5-935a829ff3fa"
      },
      "source": [
        "result = pd.read_table('ex3.txt', sep='\\s+')\n",
        "result"
      ],
      "execution_count": 23,
      "outputs": [
        {
          "output_type": "execute_result",
          "data": {
            "text/html": [
              "<div>\n",
              "<style scoped>\n",
              "    .dataframe tbody tr th:only-of-type {\n",
              "        vertical-align: middle;\n",
              "    }\n",
              "\n",
              "    .dataframe tbody tr th {\n",
              "        vertical-align: top;\n",
              "    }\n",
              "\n",
              "    .dataframe thead th {\n",
              "        text-align: right;\n",
              "    }\n",
              "</style>\n",
              "<table border=\"1\" class=\"dataframe\">\n",
              "  <thead>\n",
              "    <tr style=\"text-align: right;\">\n",
              "      <th></th>\n",
              "      <th>A</th>\n",
              "      <th>B</th>\n",
              "      <th>C</th>\n",
              "    </tr>\n",
              "  </thead>\n",
              "  <tbody>\n",
              "    <tr>\n",
              "      <th>aaa</th>\n",
              "      <td>-0.264438</td>\n",
              "      <td>-1.026059</td>\n",
              "      <td>-0.619500</td>\n",
              "    </tr>\n",
              "    <tr>\n",
              "      <th>bbb</th>\n",
              "      <td>0.927272</td>\n",
              "      <td>0.302904</td>\n",
              "      <td>-0.032399</td>\n",
              "    </tr>\n",
              "    <tr>\n",
              "      <th>ccc</th>\n",
              "      <td>-0.264273</td>\n",
              "      <td>-0.386314</td>\n",
              "      <td>-0.217601</td>\n",
              "    </tr>\n",
              "    <tr>\n",
              "      <th>ddd</th>\n",
              "      <td>-0.871858</td>\n",
              "      <td>-0.348382</td>\n",
              "      <td>1.100491</td>\n",
              "    </tr>\n",
              "  </tbody>\n",
              "</table>\n",
              "</div>"
            ],
            "text/plain": [
              "            A         B         C\n",
              "aaa -0.264438 -1.026059 -0.619500\n",
              "bbb  0.927272  0.302904 -0.032399\n",
              "ccc -0.264273 -0.386314 -0.217601\n",
              "ddd -0.871858 -0.348382  1.100491"
            ]
          },
          "metadata": {
            "tags": []
          },
          "execution_count": 23
        }
      ]
    },
    {
      "cell_type": "markdown",
      "metadata": {
        "id": "5thrs_LSdeMN",
        "colab_type": "text"
      },
      "source": [
        "Because there was one fewer column name than the number of data rows,\n",
        "read_table infers that the first column should be the DataFrame’s index in this special\n",
        "case.\n",
        "The parser functions have many additional arguments to help you handle the wide\n",
        "variety of exception file formats that occur (see a partial listing in Table 6-2). For\n",
        "example, you can skip the first, third, and fourth rows of a file with skiprows:"
      ]
    },
    {
      "cell_type": "code",
      "metadata": {
        "deletable": true,
        "editable": true,
        "id": "-hgrqfCkYfdP",
        "colab_type": "code",
        "colab": {
          "base_uri": "https://localhost:8080/",
          "height": 272
        },
        "outputId": "02436a0e-a437-4a6c-d31c-4ff38e8a5334"
      },
      "source": [
        "!cat ex4.csv\n",
        "pd.read_csv('ex4.csv', skiprows=[0, 2, 3])"
      ],
      "execution_count": 28,
      "outputs": [
        {
          "output_type": "stream",
          "text": [
            "# hey!\n",
            "a,b,c,d,message\n",
            "# just wanted to make things more difficult for you\n",
            "# who reads CSV files with computers, anyway?\n",
            "1,2,3,4,hello\n",
            "5,6,7,8,world\n",
            "9,10,11,12,foo"
          ],
          "name": "stdout"
        },
        {
          "output_type": "execute_result",
          "data": {
            "text/html": [
              "<div>\n",
              "<style scoped>\n",
              "    .dataframe tbody tr th:only-of-type {\n",
              "        vertical-align: middle;\n",
              "    }\n",
              "\n",
              "    .dataframe tbody tr th {\n",
              "        vertical-align: top;\n",
              "    }\n",
              "\n",
              "    .dataframe thead th {\n",
              "        text-align: right;\n",
              "    }\n",
              "</style>\n",
              "<table border=\"1\" class=\"dataframe\">\n",
              "  <thead>\n",
              "    <tr style=\"text-align: right;\">\n",
              "      <th></th>\n",
              "      <th>a</th>\n",
              "      <th>b</th>\n",
              "      <th>c</th>\n",
              "      <th>d</th>\n",
              "      <th>message</th>\n",
              "    </tr>\n",
              "  </thead>\n",
              "  <tbody>\n",
              "    <tr>\n",
              "      <th>0</th>\n",
              "      <td>1</td>\n",
              "      <td>2</td>\n",
              "      <td>3</td>\n",
              "      <td>4</td>\n",
              "      <td>hello</td>\n",
              "    </tr>\n",
              "    <tr>\n",
              "      <th>1</th>\n",
              "      <td>5</td>\n",
              "      <td>6</td>\n",
              "      <td>7</td>\n",
              "      <td>8</td>\n",
              "      <td>world</td>\n",
              "    </tr>\n",
              "    <tr>\n",
              "      <th>2</th>\n",
              "      <td>9</td>\n",
              "      <td>10</td>\n",
              "      <td>11</td>\n",
              "      <td>12</td>\n",
              "      <td>foo</td>\n",
              "    </tr>\n",
              "  </tbody>\n",
              "</table>\n",
              "</div>"
            ],
            "text/plain": [
              "   a   b   c   d message\n",
              "0  1   2   3   4   hello\n",
              "1  5   6   7   8   world\n",
              "2  9  10  11  12     foo"
            ]
          },
          "metadata": {
            "tags": []
          },
          "execution_count": 28
        }
      ]
    },
    {
      "cell_type": "markdown",
      "metadata": {
        "id": "yhZAKTNreT0O",
        "colab_type": "text"
      },
      "source": [
        "Handling missing values is an important and frequently nuanced part of the file parsing\n",
        "process. Missing data is usually either not present (empty string) or marked by\n",
        "some sentinel value. By default, pandas uses a set of commonly occurring sentinels,\n",
        "such as NA and NULL:"
      ]
    },
    {
      "cell_type": "code",
      "metadata": {
        "deletable": true,
        "editable": true,
        "id": "83Gjx17IYfdX",
        "colab_type": "code",
        "colab": {
          "base_uri": "https://localhost:8080/",
          "height": 217
        },
        "outputId": "480aa998-0d94-43d9-e245-ba97194a0c84"
      },
      "source": [
        "!cat ex5.csv\n",
        "result = pd.read_csv('ex5.csv')\n",
        "result\n",
        "pd.isnull(result)"
      ],
      "execution_count": 30,
      "outputs": [
        {
          "output_type": "stream",
          "text": [
            "something,a,b,c,d,message\n",
            "one,1,2,3,4,NA\n",
            "two,5,6,,8,world\n",
            "three,9,10,11,12,foo"
          ],
          "name": "stdout"
        },
        {
          "output_type": "execute_result",
          "data": {
            "text/html": [
              "<div>\n",
              "<style scoped>\n",
              "    .dataframe tbody tr th:only-of-type {\n",
              "        vertical-align: middle;\n",
              "    }\n",
              "\n",
              "    .dataframe tbody tr th {\n",
              "        vertical-align: top;\n",
              "    }\n",
              "\n",
              "    .dataframe thead th {\n",
              "        text-align: right;\n",
              "    }\n",
              "</style>\n",
              "<table border=\"1\" class=\"dataframe\">\n",
              "  <thead>\n",
              "    <tr style=\"text-align: right;\">\n",
              "      <th></th>\n",
              "      <th>something</th>\n",
              "      <th>a</th>\n",
              "      <th>b</th>\n",
              "      <th>c</th>\n",
              "      <th>d</th>\n",
              "      <th>message</th>\n",
              "    </tr>\n",
              "  </thead>\n",
              "  <tbody>\n",
              "    <tr>\n",
              "      <th>0</th>\n",
              "      <td>False</td>\n",
              "      <td>False</td>\n",
              "      <td>False</td>\n",
              "      <td>False</td>\n",
              "      <td>False</td>\n",
              "      <td>True</td>\n",
              "    </tr>\n",
              "    <tr>\n",
              "      <th>1</th>\n",
              "      <td>False</td>\n",
              "      <td>False</td>\n",
              "      <td>False</td>\n",
              "      <td>True</td>\n",
              "      <td>False</td>\n",
              "      <td>False</td>\n",
              "    </tr>\n",
              "    <tr>\n",
              "      <th>2</th>\n",
              "      <td>False</td>\n",
              "      <td>False</td>\n",
              "      <td>False</td>\n",
              "      <td>False</td>\n",
              "      <td>False</td>\n",
              "      <td>False</td>\n",
              "    </tr>\n",
              "  </tbody>\n",
              "</table>\n",
              "</div>"
            ],
            "text/plain": [
              "   something      a      b      c      d  message\n",
              "0      False  False  False  False  False     True\n",
              "1      False  False  False   True  False    False\n",
              "2      False  False  False  False  False    False"
            ]
          },
          "metadata": {
            "tags": []
          },
          "execution_count": 30
        }
      ]
    },
    {
      "cell_type": "markdown",
      "metadata": {
        "id": "lo9A1Ow7eoeV",
        "colab_type": "text"
      },
      "source": [
        "The na_values option can take either a list or set of strings to consider missing\n",
        "values:"
      ]
    },
    {
      "cell_type": "code",
      "metadata": {
        "deletable": true,
        "editable": true,
        "id": "b9RjIad3Yfde",
        "colab_type": "code",
        "colab": {
          "base_uri": "https://localhost:8080/",
          "height": 143
        },
        "outputId": "2b3b97e5-4157-4871-a844-97891bbf9312"
      },
      "source": [
        "result = pd.read_csv('ex5.csv', na_values=['NULL'])\n",
        "result"
      ],
      "execution_count": 32,
      "outputs": [
        {
          "output_type": "execute_result",
          "data": {
            "text/html": [
              "<div>\n",
              "<style scoped>\n",
              "    .dataframe tbody tr th:only-of-type {\n",
              "        vertical-align: middle;\n",
              "    }\n",
              "\n",
              "    .dataframe tbody tr th {\n",
              "        vertical-align: top;\n",
              "    }\n",
              "\n",
              "    .dataframe thead th {\n",
              "        text-align: right;\n",
              "    }\n",
              "</style>\n",
              "<table border=\"1\" class=\"dataframe\">\n",
              "  <thead>\n",
              "    <tr style=\"text-align: right;\">\n",
              "      <th></th>\n",
              "      <th>something</th>\n",
              "      <th>a</th>\n",
              "      <th>b</th>\n",
              "      <th>c</th>\n",
              "      <th>d</th>\n",
              "      <th>message</th>\n",
              "    </tr>\n",
              "  </thead>\n",
              "  <tbody>\n",
              "    <tr>\n",
              "      <th>0</th>\n",
              "      <td>one</td>\n",
              "      <td>1</td>\n",
              "      <td>2</td>\n",
              "      <td>3.0</td>\n",
              "      <td>4</td>\n",
              "      <td>NaN</td>\n",
              "    </tr>\n",
              "    <tr>\n",
              "      <th>1</th>\n",
              "      <td>two</td>\n",
              "      <td>5</td>\n",
              "      <td>6</td>\n",
              "      <td>NaN</td>\n",
              "      <td>8</td>\n",
              "      <td>world</td>\n",
              "    </tr>\n",
              "    <tr>\n",
              "      <th>2</th>\n",
              "      <td>three</td>\n",
              "      <td>9</td>\n",
              "      <td>10</td>\n",
              "      <td>11.0</td>\n",
              "      <td>12</td>\n",
              "      <td>foo</td>\n",
              "    </tr>\n",
              "  </tbody>\n",
              "</table>\n",
              "</div>"
            ],
            "text/plain": [
              "  something  a   b     c   d message\n",
              "0       one  1   2   3.0   4     NaN\n",
              "1       two  5   6   NaN   8   world\n",
              "2     three  9  10  11.0  12     foo"
            ]
          },
          "metadata": {
            "tags": []
          },
          "execution_count": 32
        }
      ]
    },
    {
      "cell_type": "markdown",
      "metadata": {
        "id": "iMgeIcuVetZa",
        "colab_type": "text"
      },
      "source": [
        "Different NA sentinels can be specified for each column in a dict:"
      ]
    },
    {
      "cell_type": "code",
      "metadata": {
        "deletable": true,
        "editable": true,
        "id": "lKScVbgzYfdk",
        "colab_type": "code",
        "colab": {
          "base_uri": "https://localhost:8080/",
          "height": 143
        },
        "outputId": "74e35090-cd9b-4d62-b32e-63563c688477"
      },
      "source": [
        "sentinels = {'message': ['foo', 'NA'], 'something': ['two']}\n",
        "pd.read_csv('ex5.csv', na_values=sentinels)"
      ],
      "execution_count": 33,
      "outputs": [
        {
          "output_type": "execute_result",
          "data": {
            "text/html": [
              "<div>\n",
              "<style scoped>\n",
              "    .dataframe tbody tr th:only-of-type {\n",
              "        vertical-align: middle;\n",
              "    }\n",
              "\n",
              "    .dataframe tbody tr th {\n",
              "        vertical-align: top;\n",
              "    }\n",
              "\n",
              "    .dataframe thead th {\n",
              "        text-align: right;\n",
              "    }\n",
              "</style>\n",
              "<table border=\"1\" class=\"dataframe\">\n",
              "  <thead>\n",
              "    <tr style=\"text-align: right;\">\n",
              "      <th></th>\n",
              "      <th>something</th>\n",
              "      <th>a</th>\n",
              "      <th>b</th>\n",
              "      <th>c</th>\n",
              "      <th>d</th>\n",
              "      <th>message</th>\n",
              "    </tr>\n",
              "  </thead>\n",
              "  <tbody>\n",
              "    <tr>\n",
              "      <th>0</th>\n",
              "      <td>one</td>\n",
              "      <td>1</td>\n",
              "      <td>2</td>\n",
              "      <td>3.0</td>\n",
              "      <td>4</td>\n",
              "      <td>NaN</td>\n",
              "    </tr>\n",
              "    <tr>\n",
              "      <th>1</th>\n",
              "      <td>NaN</td>\n",
              "      <td>5</td>\n",
              "      <td>6</td>\n",
              "      <td>NaN</td>\n",
              "      <td>8</td>\n",
              "      <td>world</td>\n",
              "    </tr>\n",
              "    <tr>\n",
              "      <th>2</th>\n",
              "      <td>three</td>\n",
              "      <td>9</td>\n",
              "      <td>10</td>\n",
              "      <td>11.0</td>\n",
              "      <td>12</td>\n",
              "      <td>NaN</td>\n",
              "    </tr>\n",
              "  </tbody>\n",
              "</table>\n",
              "</div>"
            ],
            "text/plain": [
              "  something  a   b     c   d message\n",
              "0       one  1   2   3.0   4     NaN\n",
              "1       NaN  5   6   NaN   8   world\n",
              "2     three  9  10  11.0  12     NaN"
            ]
          },
          "metadata": {
            "tags": []
          },
          "execution_count": 33
        }
      ]
    },
    {
      "cell_type": "markdown",
      "metadata": {
        "deletable": true,
        "editable": true,
        "id": "02oMFSGMYfdr",
        "colab_type": "text"
      },
      "source": [
        "### Reading Text Files in Pieces"
      ]
    },
    {
      "cell_type": "markdown",
      "metadata": {
        "id": "kp8dTOine5oM",
        "colab_type": "text"
      },
      "source": [
        "When processing very large files or figuring out the right set of arguments to correctly\n",
        "process a large file, you may only want to read in a small piece of a file or iterate\n",
        "through smaller chunks of the file.\n",
        "Before we look at a large file, we make the pandas display settings more compact:"
      ]
    },
    {
      "cell_type": "code",
      "metadata": {
        "deletable": true,
        "editable": true,
        "id": "FHREKKaMYfdt",
        "colab_type": "code",
        "colab": {}
      },
      "source": [
        "pd.options.display.max_rows = 10"
      ],
      "execution_count": 0,
      "outputs": []
    },
    {
      "cell_type": "code",
      "metadata": {
        "deletable": true,
        "editable": true,
        "id": "P_Op1_6LYfdx",
        "colab_type": "code",
        "colab": {
          "base_uri": "https://localhost:8080/",
          "height": 424
        },
        "outputId": "62ee0ce3-556e-4aaf-8de0-74b755871e90"
      },
      "source": [
        "result = pd.read_csv('ex6.csv')\n",
        "result"
      ],
      "execution_count": 35,
      "outputs": [
        {
          "output_type": "execute_result",
          "data": {
            "text/html": [
              "<div>\n",
              "<style scoped>\n",
              "    .dataframe tbody tr th:only-of-type {\n",
              "        vertical-align: middle;\n",
              "    }\n",
              "\n",
              "    .dataframe tbody tr th {\n",
              "        vertical-align: top;\n",
              "    }\n",
              "\n",
              "    .dataframe thead th {\n",
              "        text-align: right;\n",
              "    }\n",
              "</style>\n",
              "<table border=\"1\" class=\"dataframe\">\n",
              "  <thead>\n",
              "    <tr style=\"text-align: right;\">\n",
              "      <th></th>\n",
              "      <th>one</th>\n",
              "      <th>two</th>\n",
              "      <th>three</th>\n",
              "      <th>four</th>\n",
              "      <th>key</th>\n",
              "    </tr>\n",
              "  </thead>\n",
              "  <tbody>\n",
              "    <tr>\n",
              "      <th>0</th>\n",
              "      <td>0.467976</td>\n",
              "      <td>-0.038649</td>\n",
              "      <td>-0.295344</td>\n",
              "      <td>-1.824726</td>\n",
              "      <td>L</td>\n",
              "    </tr>\n",
              "    <tr>\n",
              "      <th>1</th>\n",
              "      <td>-0.358893</td>\n",
              "      <td>1.404453</td>\n",
              "      <td>0.704965</td>\n",
              "      <td>-0.200638</td>\n",
              "      <td>B</td>\n",
              "    </tr>\n",
              "    <tr>\n",
              "      <th>2</th>\n",
              "      <td>-0.501840</td>\n",
              "      <td>0.659254</td>\n",
              "      <td>-0.421691</td>\n",
              "      <td>-0.057688</td>\n",
              "      <td>G</td>\n",
              "    </tr>\n",
              "    <tr>\n",
              "      <th>3</th>\n",
              "      <td>0.204886</td>\n",
              "      <td>1.074134</td>\n",
              "      <td>1.388361</td>\n",
              "      <td>-0.982404</td>\n",
              "      <td>R</td>\n",
              "    </tr>\n",
              "    <tr>\n",
              "      <th>4</th>\n",
              "      <td>0.354628</td>\n",
              "      <td>-0.133116</td>\n",
              "      <td>0.283763</td>\n",
              "      <td>-0.837063</td>\n",
              "      <td>Q</td>\n",
              "    </tr>\n",
              "    <tr>\n",
              "      <th>...</th>\n",
              "      <td>...</td>\n",
              "      <td>...</td>\n",
              "      <td>...</td>\n",
              "      <td>...</td>\n",
              "      <td>...</td>\n",
              "    </tr>\n",
              "    <tr>\n",
              "      <th>9995</th>\n",
              "      <td>2.311896</td>\n",
              "      <td>-0.417070</td>\n",
              "      <td>-1.409599</td>\n",
              "      <td>-0.515821</td>\n",
              "      <td>L</td>\n",
              "    </tr>\n",
              "    <tr>\n",
              "      <th>9996</th>\n",
              "      <td>-0.479893</td>\n",
              "      <td>-0.650419</td>\n",
              "      <td>0.745152</td>\n",
              "      <td>-0.646038</td>\n",
              "      <td>E</td>\n",
              "    </tr>\n",
              "    <tr>\n",
              "      <th>9997</th>\n",
              "      <td>0.523331</td>\n",
              "      <td>0.787112</td>\n",
              "      <td>0.486066</td>\n",
              "      <td>1.093156</td>\n",
              "      <td>K</td>\n",
              "    </tr>\n",
              "    <tr>\n",
              "      <th>9998</th>\n",
              "      <td>-0.362559</td>\n",
              "      <td>0.598894</td>\n",
              "      <td>-1.843201</td>\n",
              "      <td>0.887292</td>\n",
              "      <td>G</td>\n",
              "    </tr>\n",
              "    <tr>\n",
              "      <th>9999</th>\n",
              "      <td>-0.096376</td>\n",
              "      <td>-1.012999</td>\n",
              "      <td>-0.657431</td>\n",
              "      <td>-0.573315</td>\n",
              "      <td>0</td>\n",
              "    </tr>\n",
              "  </tbody>\n",
              "</table>\n",
              "<p>10000 rows × 5 columns</p>\n",
              "</div>"
            ],
            "text/plain": [
              "           one       two     three      four key\n",
              "0     0.467976 -0.038649 -0.295344 -1.824726   L\n",
              "1    -0.358893  1.404453  0.704965 -0.200638   B\n",
              "2    -0.501840  0.659254 -0.421691 -0.057688   G\n",
              "3     0.204886  1.074134  1.388361 -0.982404   R\n",
              "4     0.354628 -0.133116  0.283763 -0.837063   Q\n",
              "...        ...       ...       ...       ...  ..\n",
              "9995  2.311896 -0.417070 -1.409599 -0.515821   L\n",
              "9996 -0.479893 -0.650419  0.745152 -0.646038   E\n",
              "9997  0.523331  0.787112  0.486066  1.093156   K\n",
              "9998 -0.362559  0.598894 -1.843201  0.887292   G\n",
              "9999 -0.096376 -1.012999 -0.657431 -0.573315   0\n",
              "\n",
              "[10000 rows x 5 columns]"
            ]
          },
          "metadata": {
            "tags": []
          },
          "execution_count": 35
        }
      ]
    },
    {
      "cell_type": "markdown",
      "metadata": {
        "id": "ljqcdGsvfMWG",
        "colab_type": "text"
      },
      "source": [
        "If you want to only read a small number of rows (avoiding reading the entire file),\n",
        "specify that with nrows:"
      ]
    },
    {
      "cell_type": "code",
      "metadata": {
        "deletable": true,
        "editable": true,
        "id": "G84inOCEYfd3",
        "colab_type": "code",
        "colab": {
          "base_uri": "https://localhost:8080/",
          "height": 206
        },
        "outputId": "19f36ebc-1555-4eaf-d540-a20aa1512062"
      },
      "source": [
        "pd.read_csv('ex6.csv', nrows=5)"
      ],
      "execution_count": 45,
      "outputs": [
        {
          "output_type": "execute_result",
          "data": {
            "text/html": [
              "<div>\n",
              "<style scoped>\n",
              "    .dataframe tbody tr th:only-of-type {\n",
              "        vertical-align: middle;\n",
              "    }\n",
              "\n",
              "    .dataframe tbody tr th {\n",
              "        vertical-align: top;\n",
              "    }\n",
              "\n",
              "    .dataframe thead th {\n",
              "        text-align: right;\n",
              "    }\n",
              "</style>\n",
              "<table border=\"1\" class=\"dataframe\">\n",
              "  <thead>\n",
              "    <tr style=\"text-align: right;\">\n",
              "      <th></th>\n",
              "      <th>one</th>\n",
              "      <th>two</th>\n",
              "      <th>three</th>\n",
              "      <th>four</th>\n",
              "      <th>key</th>\n",
              "    </tr>\n",
              "  </thead>\n",
              "  <tbody>\n",
              "    <tr>\n",
              "      <th>0</th>\n",
              "      <td>0.467976</td>\n",
              "      <td>-0.038649</td>\n",
              "      <td>-0.295344</td>\n",
              "      <td>-1.824726</td>\n",
              "      <td>L</td>\n",
              "    </tr>\n",
              "    <tr>\n",
              "      <th>1</th>\n",
              "      <td>-0.358893</td>\n",
              "      <td>1.404453</td>\n",
              "      <td>0.704965</td>\n",
              "      <td>-0.200638</td>\n",
              "      <td>B</td>\n",
              "    </tr>\n",
              "    <tr>\n",
              "      <th>2</th>\n",
              "      <td>-0.501840</td>\n",
              "      <td>0.659254</td>\n",
              "      <td>-0.421691</td>\n",
              "      <td>-0.057688</td>\n",
              "      <td>G</td>\n",
              "    </tr>\n",
              "    <tr>\n",
              "      <th>3</th>\n",
              "      <td>0.204886</td>\n",
              "      <td>1.074134</td>\n",
              "      <td>1.388361</td>\n",
              "      <td>-0.982404</td>\n",
              "      <td>R</td>\n",
              "    </tr>\n",
              "    <tr>\n",
              "      <th>4</th>\n",
              "      <td>0.354628</td>\n",
              "      <td>-0.133116</td>\n",
              "      <td>0.283763</td>\n",
              "      <td>-0.837063</td>\n",
              "      <td>Q</td>\n",
              "    </tr>\n",
              "  </tbody>\n",
              "</table>\n",
              "</div>"
            ],
            "text/plain": [
              "        one       two     three      four key\n",
              "0  0.467976 -0.038649 -0.295344 -1.824726   L\n",
              "1 -0.358893  1.404453  0.704965 -0.200638   B\n",
              "2 -0.501840  0.659254 -0.421691 -0.057688   G\n",
              "3  0.204886  1.074134  1.388361 -0.982404   R\n",
              "4  0.354628 -0.133116  0.283763 -0.837063   Q"
            ]
          },
          "metadata": {
            "tags": []
          },
          "execution_count": 45
        }
      ]
    },
    {
      "cell_type": "markdown",
      "metadata": {
        "id": "TgJiLrWzfPvh",
        "colab_type": "text"
      },
      "source": [
        "To read a file in pieces, specify a chunksize as a number of rows:"
      ]
    },
    {
      "cell_type": "code",
      "metadata": {
        "deletable": true,
        "editable": true,
        "id": "Qy3xIhzIYfd9",
        "colab_type": "code",
        "colab": {
          "base_uri": "https://localhost:8080/",
          "height": 35
        },
        "outputId": "2b50e3bd-583f-4a15-9db0-5249af527166"
      },
      "source": [
        "chunker = pd.read_csv('ex6.csv', chunksize=1000)\n",
        "chunker"
      ],
      "execution_count": 46,
      "outputs": [
        {
          "output_type": "execute_result",
          "data": {
            "text/plain": [
              "<pandas.io.parsers.TextFileReader at 0x7fc58bd1a4e0>"
            ]
          },
          "metadata": {
            "tags": []
          },
          "execution_count": 46
        }
      ]
    },
    {
      "cell_type": "markdown",
      "metadata": {
        "id": "-jvekXWAfW79",
        "colab_type": "text"
      },
      "source": [
        "The TextParser object returned by read_csv allows you to iterate over the parts of\n",
        "the file according to the chunksize. For example, we can iterate over ex6.csv, aggregating\n",
        "the value counts in the 'key' column like so:"
      ]
    },
    {
      "cell_type": "code",
      "metadata": {
        "deletable": true,
        "editable": true,
        "id": "a76VKZYJYfeD",
        "colab_type": "code",
        "colab": {}
      },
      "source": [
        "chunker = pd.read_csv('ex6.csv', chunksize=1000)\n",
        "\n",
        "tot = pd.Series([])\n",
        "for piece in chunker:\n",
        "    tot = tot.add(piece['key'].value_counts(), fill_value=0)\n",
        "\n",
        "tot = tot.sort_values(ascending=False)"
      ],
      "execution_count": 0,
      "outputs": []
    },
    {
      "cell_type": "code",
      "metadata": {
        "deletable": true,
        "editable": true,
        "id": "c5Qv5VN3YfeL",
        "colab_type": "code",
        "colab": {
          "base_uri": "https://localhost:8080/",
          "height": 219
        },
        "outputId": "a3e5f308-ced7-4717-b07b-7ccd966be0d8"
      },
      "source": [
        "tot[:10]"
      ],
      "execution_count": 52,
      "outputs": [
        {
          "output_type": "execute_result",
          "data": {
            "text/plain": [
              "E    368.0\n",
              "X    364.0\n",
              "L    346.0\n",
              "O    343.0\n",
              "Q    340.0\n",
              "M    338.0\n",
              "J    337.0\n",
              "F    335.0\n",
              "K    334.0\n",
              "H    330.0\n",
              "dtype: float64"
            ]
          },
          "metadata": {
            "tags": []
          },
          "execution_count": 52
        }
      ]
    },
    {
      "cell_type": "markdown",
      "metadata": {
        "deletable": true,
        "editable": true,
        "id": "VjjkOh_0YfeW",
        "colab_type": "text"
      },
      "source": [
        "### Writing Data to Text Format"
      ]
    },
    {
      "cell_type": "markdown",
      "metadata": {
        "id": "omgfY_XKf4yr",
        "colab_type": "text"
      },
      "source": [
        "Data can also be exported to a delimited format. Let’s consider one of the CSV files\n",
        "read before:"
      ]
    },
    {
      "cell_type": "code",
      "metadata": {
        "deletable": true,
        "editable": true,
        "id": "oV7sqpg6Yfeb",
        "colab_type": "code",
        "colab": {
          "base_uri": "https://localhost:8080/",
          "height": 143
        },
        "outputId": "5d2ad16b-93f7-41d7-d8ae-deb3e76b649a"
      },
      "source": [
        "data = pd.read_csv('ex5.csv')\n",
        "data"
      ],
      "execution_count": 53,
      "outputs": [
        {
          "output_type": "execute_result",
          "data": {
            "text/html": [
              "<div>\n",
              "<style scoped>\n",
              "    .dataframe tbody tr th:only-of-type {\n",
              "        vertical-align: middle;\n",
              "    }\n",
              "\n",
              "    .dataframe tbody tr th {\n",
              "        vertical-align: top;\n",
              "    }\n",
              "\n",
              "    .dataframe thead th {\n",
              "        text-align: right;\n",
              "    }\n",
              "</style>\n",
              "<table border=\"1\" class=\"dataframe\">\n",
              "  <thead>\n",
              "    <tr style=\"text-align: right;\">\n",
              "      <th></th>\n",
              "      <th>something</th>\n",
              "      <th>a</th>\n",
              "      <th>b</th>\n",
              "      <th>c</th>\n",
              "      <th>d</th>\n",
              "      <th>message</th>\n",
              "    </tr>\n",
              "  </thead>\n",
              "  <tbody>\n",
              "    <tr>\n",
              "      <th>0</th>\n",
              "      <td>one</td>\n",
              "      <td>1</td>\n",
              "      <td>2</td>\n",
              "      <td>3.0</td>\n",
              "      <td>4</td>\n",
              "      <td>NaN</td>\n",
              "    </tr>\n",
              "    <tr>\n",
              "      <th>1</th>\n",
              "      <td>two</td>\n",
              "      <td>5</td>\n",
              "      <td>6</td>\n",
              "      <td>NaN</td>\n",
              "      <td>8</td>\n",
              "      <td>world</td>\n",
              "    </tr>\n",
              "    <tr>\n",
              "      <th>2</th>\n",
              "      <td>three</td>\n",
              "      <td>9</td>\n",
              "      <td>10</td>\n",
              "      <td>11.0</td>\n",
              "      <td>12</td>\n",
              "      <td>foo</td>\n",
              "    </tr>\n",
              "  </tbody>\n",
              "</table>\n",
              "</div>"
            ],
            "text/plain": [
              "  something  a   b     c   d message\n",
              "0       one  1   2   3.0   4     NaN\n",
              "1       two  5   6   NaN   8   world\n",
              "2     three  9  10  11.0  12     foo"
            ]
          },
          "metadata": {
            "tags": []
          },
          "execution_count": 53
        }
      ]
    },
    {
      "cell_type": "markdown",
      "metadata": {
        "id": "AsuvLMeBf-gB",
        "colab_type": "text"
      },
      "source": [
        "Using DataFrame’s to_csv method, we can write the data out to a comma-separated\n",
        "file:"
      ]
    },
    {
      "cell_type": "code",
      "metadata": {
        "deletable": true,
        "editable": true,
        "id": "Mv85zSYcYfeh",
        "colab_type": "code",
        "colab": {
          "base_uri": "https://localhost:8080/",
          "height": 90
        },
        "outputId": "1f3a4fd4-af42-4bb5-cd42-0ca294c91414"
      },
      "source": [
        "data.to_csv('out.csv')\n",
        "!cat out.csv"
      ],
      "execution_count": 54,
      "outputs": [
        {
          "output_type": "stream",
          "text": [
            ",something,a,b,c,d,message\n",
            "0,one,1,2,3.0,4,\n",
            "1,two,5,6,,8,world\n",
            "2,three,9,10,11.0,12,foo\n"
          ],
          "name": "stdout"
        }
      ]
    },
    {
      "cell_type": "markdown",
      "metadata": {
        "id": "gF1lFGXbgFjY",
        "colab_type": "text"
      },
      "source": [
        "Other delimiters can be used, of course (writing to sys.stdout so it prints the text\n",
        "result to the console):"
      ]
    },
    {
      "cell_type": "code",
      "metadata": {
        "deletable": true,
        "editable": true,
        "id": "ICYjj0eBYfem",
        "colab_type": "code",
        "colab": {
          "base_uri": "https://localhost:8080/",
          "height": 90
        },
        "outputId": "ccb01c1a-a873-4be4-aacd-2c9dffb9b91b"
      },
      "source": [
        "import sys\n",
        "data.to_csv(sys.stdout, sep='|')"
      ],
      "execution_count": 55,
      "outputs": [
        {
          "output_type": "stream",
          "text": [
            "|something|a|b|c|d|message\n",
            "0|one|1|2|3.0|4|\n",
            "1|two|5|6||8|world\n",
            "2|three|9|10|11.0|12|foo\n"
          ],
          "name": "stdout"
        }
      ]
    },
    {
      "cell_type": "markdown",
      "metadata": {
        "id": "RkLuzX4SgK3h",
        "colab_type": "text"
      },
      "source": [
        "Missing values appear as empty strings in the output. You might want to denote them\n",
        "by some other sentinel value:"
      ]
    },
    {
      "cell_type": "code",
      "metadata": {
        "deletable": true,
        "editable": true,
        "id": "8K_yhZDoYfe3",
        "colab_type": "code",
        "colab": {
          "base_uri": "https://localhost:8080/",
          "height": 90
        },
        "outputId": "19d2030e-ff00-469d-f643-cea959e68d7d"
      },
      "source": [
        "data.to_csv(sys.stdout, na_rep='NULL')"
      ],
      "execution_count": 56,
      "outputs": [
        {
          "output_type": "stream",
          "text": [
            ",something,a,b,c,d,message\n",
            "0,one,1,2,3.0,4,NULL\n",
            "1,two,5,6,NULL,8,world\n",
            "2,three,9,10,11.0,12,foo\n"
          ],
          "name": "stdout"
        }
      ]
    },
    {
      "cell_type": "markdown",
      "metadata": {
        "id": "NyRlbtiCgXza",
        "colab_type": "text"
      },
      "source": [
        "With no other options specified, both the row and column labels are written. Both of\n",
        "these can be disabled:"
      ]
    },
    {
      "cell_type": "code",
      "metadata": {
        "deletable": true,
        "editable": true,
        "id": "bPnYWvfrYfe7",
        "colab_type": "code",
        "colab": {
          "base_uri": "https://localhost:8080/",
          "height": 72
        },
        "outputId": "c6fbcd11-5040-4a32-c4ac-cfddd9c658b4"
      },
      "source": [
        "data.to_csv(sys.stdout, index=False, header=False)"
      ],
      "execution_count": 58,
      "outputs": [
        {
          "output_type": "stream",
          "text": [
            "one,1,2,3.0,4,\n",
            "two,5,6,,8,world\n",
            "three,9,10,11.0,12,foo\n"
          ],
          "name": "stdout"
        }
      ]
    },
    {
      "cell_type": "markdown",
      "metadata": {
        "id": "uzCgBvGxgbzS",
        "colab_type": "text"
      },
      "source": [
        "You can also write only a subset of the columns, and in an order of your choosing:"
      ]
    },
    {
      "cell_type": "code",
      "metadata": {
        "deletable": true,
        "editable": true,
        "id": "kMsyys6IYfe_",
        "colab_type": "code",
        "colab": {
          "base_uri": "https://localhost:8080/",
          "height": 90
        },
        "outputId": "37bd648d-5e83-48c2-97ed-7cfc2097b406"
      },
      "source": [
        "data.to_csv(sys.stdout, index=False, columns=['a', 'b', 'c'])"
      ],
      "execution_count": 59,
      "outputs": [
        {
          "output_type": "stream",
          "text": [
            "a,b,c\n",
            "1,2,3.0\n",
            "5,6,\n",
            "9,10,11.0\n"
          ],
          "name": "stdout"
        }
      ]
    },
    {
      "cell_type": "markdown",
      "metadata": {
        "id": "wIGslaqKggbX",
        "colab_type": "text"
      },
      "source": [
        "Series also has a to_csv method:"
      ]
    },
    {
      "cell_type": "code",
      "metadata": {
        "deletable": true,
        "editable": true,
        "id": "IW5t3ijFYffD",
        "colab_type": "code",
        "colab": {
          "base_uri": "https://localhost:8080/",
          "height": 202
        },
        "outputId": "bca36946-db9c-4c1e-cd6a-a853c316205f"
      },
      "source": [
        "dates = pd.date_range('1/1/2000', periods=7)\n",
        "ts = pd.Series(np.arange(7), index=dates)\n",
        "ts.to_csv('tseries.csv')\n",
        "!cat tseries.csv"
      ],
      "execution_count": 61,
      "outputs": [
        {
          "output_type": "stream",
          "text": [
            "/usr/local/lib/python3.6/dist-packages/ipykernel_launcher.py:3: FutureWarning: The signature of `Series.to_csv` was aligned to that of `DataFrame.to_csv`, and argument 'header' will change its default value from False to True: please pass an explicit value to suppress this warning.\n",
            "  This is separate from the ipykernel package so we can avoid doing imports until\n"
          ],
          "name": "stderr"
        },
        {
          "output_type": "stream",
          "text": [
            "2000-01-01,0\n",
            "2000-01-02,1\n",
            "2000-01-03,2\n",
            "2000-01-04,3\n",
            "2000-01-05,4\n",
            "2000-01-06,5\n",
            "2000-01-07,6\n"
          ],
          "name": "stdout"
        }
      ]
    },
    {
      "cell_type": "markdown",
      "metadata": {
        "deletable": true,
        "editable": true,
        "id": "aMKkmorfYffI",
        "colab_type": "text"
      },
      "source": [
        "### Working with Delimited Formats"
      ]
    },
    {
      "cell_type": "markdown",
      "metadata": {
        "id": "DyOTs562g7V2",
        "colab_type": "text"
      },
      "source": [
        "It’s possible to load most forms of tabular data from disk using functions like pan\n",
        "das.read_table. In some cases, however, some manual processing may be necessary.\n",
        "It’s not uncommon to receive a file with one or more malformed lines that trip up\n",
        "read_table. To illustrate the basic tools, consider a small CSV file:"
      ]
    },
    {
      "cell_type": "code",
      "metadata": {
        "deletable": true,
        "editable": true,
        "id": "8zMINlIQYffL",
        "colab_type": "code",
        "colab": {
          "base_uri": "https://localhost:8080/",
          "height": 72
        },
        "outputId": "ec513f86-701b-4cbe-9f54-a72d1ed298d2"
      },
      "source": [
        "!cat ex7.csv"
      ],
      "execution_count": 62,
      "outputs": [
        {
          "output_type": "stream",
          "text": [
            "\"a\",\"b\",\"c\"\n",
            "\"1\",\"2\",\"3\"\n",
            "\"1\",\"2\",\"3\"\n"
          ],
          "name": "stdout"
        }
      ]
    },
    {
      "cell_type": "markdown",
      "metadata": {
        "id": "c9Lr3Ph6hD9k",
        "colab_type": "text"
      },
      "source": [
        "For any file with a single-character delimiter, you can use Python’s built-in csv module.\n",
        "To use it, pass any open file or file-like object to csv.reader:"
      ]
    },
    {
      "cell_type": "code",
      "metadata": {
        "deletable": true,
        "editable": true,
        "id": "fiTr3GYjYffQ",
        "colab_type": "code",
        "colab": {}
      },
      "source": [
        "import csv\n",
        "f = open('ex7.csv')\n",
        "\n",
        "reader = csv.reader(f)"
      ],
      "execution_count": 0,
      "outputs": []
    },
    {
      "cell_type": "markdown",
      "metadata": {
        "id": "8GBxJtQ-hIoE",
        "colab_type": "text"
      },
      "source": [
        "Iterating through the reader like a file yields tuples of values with any quote characters\n",
        "removed:"
      ]
    },
    {
      "cell_type": "code",
      "metadata": {
        "deletable": true,
        "editable": true,
        "id": "zSJNAnm5YffU",
        "colab_type": "code",
        "colab": {
          "base_uri": "https://localhost:8080/",
          "height": 72
        },
        "outputId": "0eadbfaa-0409-401f-8488-e5c7adcba284"
      },
      "source": [
        "for line in reader:\n",
        "    print(line)"
      ],
      "execution_count": 65,
      "outputs": [
        {
          "output_type": "stream",
          "text": [
            "['a', 'b', 'c']\n",
            "['1', '2', '3']\n",
            "['1', '2', '3']\n"
          ],
          "name": "stdout"
        }
      ]
    },
    {
      "cell_type": "markdown",
      "metadata": {
        "id": "HKDv08MWhOzw",
        "colab_type": "text"
      },
      "source": [
        "From there, it’s up to you to do the wrangling necessary to put the data in the form\n",
        "that you need it. Let’s take this step by step. First, we read the file into a list of lines:"
      ]
    },
    {
      "cell_type": "code",
      "metadata": {
        "deletable": true,
        "editable": true,
        "id": "JQFZDzQFYffY",
        "colab_type": "code",
        "colab": {}
      },
      "source": [
        "with open('ex7.csv') as f:\n",
        "    lines = list(csv.reader(f))"
      ],
      "execution_count": 0,
      "outputs": []
    },
    {
      "cell_type": "markdown",
      "metadata": {
        "id": "fdFYVW7zhUge",
        "colab_type": "text"
      },
      "source": [
        "Then, we split the lines into the header line and the data lines:"
      ]
    },
    {
      "cell_type": "code",
      "metadata": {
        "deletable": true,
        "editable": true,
        "id": "Zyle6-_1Yffb",
        "colab_type": "code",
        "colab": {}
      },
      "source": [
        "header, values = lines[0], lines[1:]"
      ],
      "execution_count": 0,
      "outputs": []
    },
    {
      "cell_type": "markdown",
      "metadata": {
        "id": "W9gvSgPMhVV8",
        "colab_type": "text"
      },
      "source": [
        "Then we can create a dictionary of data columns using a dictionary comprehension\n",
        "and the expression zip(*values), which transposes rows to columns:"
      ]
    },
    {
      "cell_type": "code",
      "metadata": {
        "deletable": true,
        "editable": true,
        "id": "wylhX9MIYfff",
        "colab_type": "code",
        "colab": {
          "base_uri": "https://localhost:8080/",
          "height": 35
        },
        "outputId": "9141e9e3-5799-40ae-d806-26ec3e04b4eb"
      },
      "source": [
        "data_dict = {h: v for h, v in zip(header, zip(*values))}\n",
        "data_dict"
      ],
      "execution_count": 69,
      "outputs": [
        {
          "output_type": "execute_result",
          "data": {
            "text/plain": [
              "{'a': ('1', '1'), 'b': ('2', '2'), 'c': ('3', '3')}"
            ]
          },
          "metadata": {
            "tags": []
          },
          "execution_count": 69
        }
      ]
    },
    {
      "cell_type": "markdown",
      "metadata": {
        "deletable": true,
        "editable": true,
        "id": "Q0vdEaVOYffn",
        "colab_type": "text"
      },
      "source": [
        "### JSON Data"
      ]
    },
    {
      "cell_type": "markdown",
      "metadata": {
        "id": "DgJnwg4thhpC",
        "colab_type": "text"
      },
      "source": [
        "JSON (short for JavaScript Object Notation) has become one of the standard formats\n",
        "for sending data by HTTP request between web browsers and other applications. It is\n",
        "a much more free-form data format than a tabular text form like CSV. Here is an\n",
        "example:"
      ]
    },
    {
      "cell_type": "code",
      "metadata": {
        "deletable": true,
        "editable": true,
        "id": "Bhvkwn9tYffn",
        "colab_type": "code",
        "colab": {}
      },
      "source": [
        "obj = \"\"\"\n",
        "{\"name\": \"Wes\",\n",
        " \"places_lived\": [\"United States\", \"Spain\", \"Germany\"],\n",
        " \"pet\": null,\n",
        " \"siblings\": [{\"name\": \"Scott\", \"age\": 30, \"pets\": [\"Zeus\", \"Zuko\"]},\n",
        "              {\"name\": \"Katie\", \"age\": 38,\n",
        "               \"pets\": [\"Sixes\", \"Stache\", \"Cisco\"]}]\n",
        "}\n",
        "\"\"\""
      ],
      "execution_count": 0,
      "outputs": []
    },
    {
      "cell_type": "markdown",
      "metadata": {
        "id": "dJUfHDFhhldN",
        "colab_type": "text"
      },
      "source": [
        "JSON is very nearly valid Python code with the exception of its null value null and\n",
        "some other nuances (such as disallowing trailing commas at the end of lists). The\n",
        "basic types are objects (dicts), arrays (lists), strings, numbers, booleans, and nulls. All\n",
        "of the keys in an object must be strings. There are several Python libraries for reading and writing JSON data. We'll use json here, as it is built into the Python standard\n",
        "library. To convert a JSON string to Python form, use json.loads:"
      ]
    },
    {
      "cell_type": "code",
      "metadata": {
        "deletable": true,
        "editable": true,
        "id": "1LS18iy1Yffr",
        "colab_type": "code",
        "colab": {
          "base_uri": "https://localhost:8080/",
          "height": 109
        },
        "outputId": "609c809d-11a2-414d-cae5-aa0c9779c4ce"
      },
      "source": [
        "import json\n",
        "result = json.loads(obj)\n",
        "result"
      ],
      "execution_count": 72,
      "outputs": [
        {
          "output_type": "execute_result",
          "data": {
            "text/plain": [
              "{'name': 'Wes',\n",
              " 'pet': None,\n",
              " 'places_lived': ['United States', 'Spain', 'Germany'],\n",
              " 'siblings': [{'age': 30, 'name': 'Scott', 'pets': ['Zeus', 'Zuko']},\n",
              "  {'age': 38, 'name': 'Katie', 'pets': ['Sixes', 'Stache', 'Cisco']}]}"
            ]
          },
          "metadata": {
            "tags": []
          },
          "execution_count": 72
        }
      ]
    },
    {
      "cell_type": "markdown",
      "metadata": {
        "id": "wxLzoHAAh6Iz",
        "colab_type": "text"
      },
      "source": [
        "json.dumps, on the other hand, converts a Python object back to JSON:"
      ]
    },
    {
      "cell_type": "code",
      "metadata": {
        "deletable": true,
        "editable": true,
        "id": "m3fgrgVtYffz",
        "colab_type": "code",
        "colab": {}
      },
      "source": [
        "asjson = json.dumps(result)"
      ],
      "execution_count": 0,
      "outputs": []
    },
    {
      "cell_type": "markdown",
      "metadata": {
        "id": "b5z5a0GTh8-T",
        "colab_type": "text"
      },
      "source": [
        "How you convert a JSON object or list of objects to a DataFrame or some other data\n",
        "structure for analysis will be up to you. Conveniently, you can pass a list of dicts\n",
        "(which were previously JSON objects) to the DataFrame constructor and select a subset\n",
        "of the data fields:"
      ]
    },
    {
      "cell_type": "code",
      "metadata": {
        "deletable": true,
        "editable": true,
        "id": "sO8sL4FDYff2",
        "colab_type": "code",
        "colab": {
          "base_uri": "https://localhost:8080/",
          "height": 112
        },
        "outputId": "2ad371d1-1ed9-4f99-859d-2eb910a61639"
      },
      "source": [
        "siblings = pd.DataFrame(result['siblings'], columns=['name', 'age'])\n",
        "siblings"
      ],
      "execution_count": 74,
      "outputs": [
        {
          "output_type": "execute_result",
          "data": {
            "text/html": [
              "<div>\n",
              "<style scoped>\n",
              "    .dataframe tbody tr th:only-of-type {\n",
              "        vertical-align: middle;\n",
              "    }\n",
              "\n",
              "    .dataframe tbody tr th {\n",
              "        vertical-align: top;\n",
              "    }\n",
              "\n",
              "    .dataframe thead th {\n",
              "        text-align: right;\n",
              "    }\n",
              "</style>\n",
              "<table border=\"1\" class=\"dataframe\">\n",
              "  <thead>\n",
              "    <tr style=\"text-align: right;\">\n",
              "      <th></th>\n",
              "      <th>name</th>\n",
              "      <th>age</th>\n",
              "    </tr>\n",
              "  </thead>\n",
              "  <tbody>\n",
              "    <tr>\n",
              "      <th>0</th>\n",
              "      <td>Scott</td>\n",
              "      <td>30</td>\n",
              "    </tr>\n",
              "    <tr>\n",
              "      <th>1</th>\n",
              "      <td>Katie</td>\n",
              "      <td>38</td>\n",
              "    </tr>\n",
              "  </tbody>\n",
              "</table>\n",
              "</div>"
            ],
            "text/plain": [
              "    name  age\n",
              "0  Scott   30\n",
              "1  Katie   38"
            ]
          },
          "metadata": {
            "tags": []
          },
          "execution_count": 74
        }
      ]
    },
    {
      "cell_type": "markdown",
      "metadata": {
        "id": "RLVls6paiACc",
        "colab_type": "text"
      },
      "source": [
        "The pandas.read_json can automatically convert JSON datasets in specific arrangements\n",
        "into a Series or DataFrame. For example:"
      ]
    },
    {
      "cell_type": "code",
      "metadata": {
        "deletable": true,
        "editable": true,
        "id": "FeBXdIczYff6",
        "colab_type": "code",
        "colab": {
          "base_uri": "https://localhost:8080/",
          "height": 72
        },
        "outputId": "e7f97a3c-2ec8-4032-be74-ced1bd260c82"
      },
      "source": [
        "!cat example.json"
      ],
      "execution_count": 76,
      "outputs": [
        {
          "output_type": "stream",
          "text": [
            "[{\"a\": 1, \"b\": 2, \"c\": 3},\n",
            " {\"a\": 4, \"b\": 5, \"c\": 6},\n",
            " {\"a\": 7, \"b\": 8, \"c\": 9}]\n"
          ],
          "name": "stdout"
        }
      ]
    },
    {
      "cell_type": "markdown",
      "metadata": {
        "id": "9wmrSTA1iHLP",
        "colab_type": "text"
      },
      "source": [
        "The default options for pandas.read_json assume that each object in the JSON array\n",
        "is a row in the table:"
      ]
    },
    {
      "cell_type": "code",
      "metadata": {
        "deletable": true,
        "editable": true,
        "id": "tIebvIO3YfgA",
        "colab_type": "code",
        "colab": {
          "base_uri": "https://localhost:8080/",
          "height": 143
        },
        "outputId": "7d64acc1-25e8-4eab-ee8b-49f9f084f83d"
      },
      "source": [
        "data = pd.read_json('example.json')\n",
        "data"
      ],
      "execution_count": 78,
      "outputs": [
        {
          "output_type": "execute_result",
          "data": {
            "text/html": [
              "<div>\n",
              "<style scoped>\n",
              "    .dataframe tbody tr th:only-of-type {\n",
              "        vertical-align: middle;\n",
              "    }\n",
              "\n",
              "    .dataframe tbody tr th {\n",
              "        vertical-align: top;\n",
              "    }\n",
              "\n",
              "    .dataframe thead th {\n",
              "        text-align: right;\n",
              "    }\n",
              "</style>\n",
              "<table border=\"1\" class=\"dataframe\">\n",
              "  <thead>\n",
              "    <tr style=\"text-align: right;\">\n",
              "      <th></th>\n",
              "      <th>a</th>\n",
              "      <th>b</th>\n",
              "      <th>c</th>\n",
              "    </tr>\n",
              "  </thead>\n",
              "  <tbody>\n",
              "    <tr>\n",
              "      <th>0</th>\n",
              "      <td>1</td>\n",
              "      <td>2</td>\n",
              "      <td>3</td>\n",
              "    </tr>\n",
              "    <tr>\n",
              "      <th>1</th>\n",
              "      <td>4</td>\n",
              "      <td>5</td>\n",
              "      <td>6</td>\n",
              "    </tr>\n",
              "    <tr>\n",
              "      <th>2</th>\n",
              "      <td>7</td>\n",
              "      <td>8</td>\n",
              "      <td>9</td>\n",
              "    </tr>\n",
              "  </tbody>\n",
              "</table>\n",
              "</div>"
            ],
            "text/plain": [
              "   a  b  c\n",
              "0  1  2  3\n",
              "1  4  5  6\n",
              "2  7  8  9"
            ]
          },
          "metadata": {
            "tags": []
          },
          "execution_count": 78
        }
      ]
    },
    {
      "cell_type": "code",
      "metadata": {
        "deletable": true,
        "editable": true,
        "id": "93rEHuo6YfgF",
        "colab_type": "code",
        "colab": {
          "base_uri": "https://localhost:8080/",
          "height": 54
        },
        "outputId": "e35bf722-c3e4-4d4d-fa2c-2f874050f24e"
      },
      "source": [
        "print(data.to_json())\n",
        "print(data.to_json(orient='records'))"
      ],
      "execution_count": 79,
      "outputs": [
        {
          "output_type": "stream",
          "text": [
            "{\"a\":{\"0\":1,\"1\":4,\"2\":7},\"b\":{\"0\":2,\"1\":5,\"2\":8},\"c\":{\"0\":3,\"1\":6,\"2\":9}}\n",
            "[{\"a\":1,\"b\":2,\"c\":3},{\"a\":4,\"b\":5,\"c\":6},{\"a\":7,\"b\":8,\"c\":9}]\n"
          ],
          "name": "stdout"
        }
      ]
    },
    {
      "cell_type": "markdown",
      "metadata": {
        "deletable": true,
        "editable": true,
        "id": "69_KHhmPYfgJ",
        "colab_type": "text"
      },
      "source": [
        "###  HTML: Web Scraping"
      ]
    },
    {
      "cell_type": "markdown",
      "metadata": {
        "deletable": true,
        "editable": true,
        "id": "eFcMym8NYfgL",
        "colab_type": "text"
      },
      "source": [
        "Python has many libraries for reading and writing data in the ubiquitous HTML and\n",
        "XML formats. Examples include lxml, Beautiful Soup, and html5lib. While lxml is\n",
        "comparatively much faster in general, the other libraries can better handle malformed\n",
        "HTML or XML files.\n",
        "\n",
        "Before we scrape a website, we need to take a look at their robots.txt. This file tells us if the website allows scraping or if they do not. To find the robots.txt, type in the base url and add “/robots.txt”. For eg, if we want to crawl shobiddak.com, type in https://www.shobiddak.com/robots.txt at the url box.\n",
        "\n",
        "If the robots.txt allows full access it says as follows:\n",
        "\n",
        "User-agent: *\n",
        "\n",
        "Disallow:\n",
        "\n",
        "If the robots.txt blocks all access, it contains the following:\n",
        "\n",
        "User-agent: *\n",
        "\n",
        "Disallow: /\n",
        "\n",
        "And if the robots.txt gives partial access, it contains the following, where section stands for the sections that are not to be crawled:\n",
        "\n",
        "User-agent: *\n",
        "\n",
        "Disallow: /section/"
      ]
    },
    {
      "cell_type": "markdown",
      "metadata": {
        "id": "dT9zAFVyjb5u",
        "colab_type": "text"
      },
      "source": [
        "Import the necessary libraries:\n",
        "Requests is used in this example to get the html content, BeautifulSoup to parse the html, and pandas to make a dataframe and write to a csv."
      ]
    },
    {
      "cell_type": "code",
      "metadata": {
        "deletable": true,
        "editable": true,
        "id": "MwJMO0GaYfgM",
        "colab_type": "code",
        "colab": {}
      },
      "source": [
        "import requests \n",
        "from bs4 import BeautifulSoup\n",
        "import pandas"
      ],
      "execution_count": 0,
      "outputs": []
    },
    {
      "cell_type": "markdown",
      "metadata": {
        "id": "zKbJcj21j2tf",
        "colab_type": "text"
      },
      "source": [
        "Store the url you want to scrape to a variable. In this example, I go to apartments.com and type in Cincinnati, OH in the search box and press Go as in the screenshot below."
      ]
    },
    {
      "cell_type": "code",
      "metadata": {
        "id": "uB8e9T2Ij6Tw",
        "colab_type": "code",
        "colab": {}
      },
      "source": [
        "base_url = \"https://shobiddak.com/cars?page=1\""
      ],
      "execution_count": 0,
      "outputs": []
    },
    {
      "cell_type": "markdown",
      "metadata": {
        "id": "9e-grntTj-_2",
        "colab_type": "text"
      },
      "source": [
        "Get the html contents from the page. This is done using the requests library"
      ]
    },
    {
      "cell_type": "code",
      "metadata": {
        "id": "PIoFBjeDkA7j",
        "colab_type": "code",
        "colab": {}
      },
      "source": [
        "r = requests.get(base_url)\n",
        "c = r.content"
      ],
      "execution_count": 0,
      "outputs": []
    },
    {
      "cell_type": "markdown",
      "metadata": {
        "id": "aVK_dn6ykEP0",
        "colab_type": "text"
      },
      "source": [
        "Parse the html. This is done with BeautifulSoup."
      ]
    },
    {
      "cell_type": "code",
      "metadata": {
        "id": "0mG9mMQzkFCB",
        "colab_type": "code",
        "colab": {}
      },
      "source": [
        "soup = BeautifulSoup(c,\"html.parser\")\n"
      ],
      "execution_count": 0,
      "outputs": []
    },
    {
      "cell_type": "markdown",
      "metadata": {
        "id": "QSfDNUCRkOHk",
        "colab_type": "text"
      },
      "source": [
        " Extract the first and last page numbers. We need to be able to find the first and the last page numbers in order to be able to crawl through all of the pages on the website dynamically. To do this click on the paging section at the end of the page as shown in the screen shot below and right click to inspect."
      ]
    },
    {
      "cell_type": "code",
      "metadata": {
        "id": "2GdDwbJ1kaHo",
        "colab_type": "code",
        "colab": {}
      },
      "source": [
        "# To extract the first and last page numbers\n",
        "#paging = soup.find(\"div\",{\"class\":\"all_contents\"}).find(\"div\",{\"class\":\"center-image\"}).find(\"div\",{\"class\":\"pagination\"}).find_all(\"a\")\n",
        "paging = soup.find(\"div\",{\"class\":\"all_contents\"}).find(\"div\",{\"class\":\"pagination\"}).find_all(\"a\")\n",
        "start_page = paging[1].text\n",
        "last_page = paging[len(paging)-2].text"
      ],
      "execution_count": 0,
      "outputs": []
    },
    {
      "cell_type": "markdown",
      "metadata": {
        "id": "OXFenejppgbF",
        "colab_type": "text"
      },
      "source": [
        "Make page links from the page numbers ,crawl through the pages and extract the contents from the corresponding tags. We start a for loop to iterate through each of the pages."
      ]
    },
    {
      "cell_type": "code",
      "metadata": {
        "id": "hipUlAlRphUl",
        "colab_type": "code",
        "colab": {
          "base_uri": "https://localhost:8080/",
          "height": 54
        },
        "outputId": "3e30ed81-32b7-4877-ce41-753dafbd0550"
      },
      "source": [
        "base_url=\"https://shobiddak.com/cars?page=\"\n",
        "for page_number in range(int(start_page),3):\n",
        "    \n",
        "    # To form the url based on page numbers\n",
        "    url = base_url+str(page_number)\n",
        "    print(url)\n",
        "    r = requests.get(base_url+str(page_number)+\"/\")\n",
        "    c = r.content\n",
        "    \n",
        "    #soup = BeautifulSoup(c,\"html.parser\")"
      ],
      "execution_count": 217,
      "outputs": [
        {
          "output_type": "stream",
          "text": [
            "https://shobiddak.com/cars?page=1\n",
            "https://shobiddak.com/cars?page=2\n"
          ],
          "name": "stdout"
        }
      ]
    },
    {
      "cell_type": "markdown",
      "metadata": {
        "id": "kjNKV-1Gzw0b",
        "colab_type": "text"
      },
      "source": [
        "Extract the header class for title and year.Right click on the title and inspect."
      ]
    },
    {
      "cell_type": "code",
      "metadata": {
        "id": "iCpAPK1tz7J2",
        "colab_type": "code",
        "colab": {
          "base_uri": "https://localhost:8080/",
          "height": 348
        },
        "outputId": "ddc7ed98-6d82-4b7a-a8fb-f69d2285a547"
      },
      "source": [
        "# To extract the Title,year,color and price\n",
        "    placard_header = soup.find_all(\"div\", {\"class\":\"col-xs-4 fixed-box-height guide-card\"})\n",
        "    print(placard_header[0])"
      ],
      "execution_count": 222,
      "outputs": [
        {
          "output_type": "stream",
          "text": [
            "<div class=\"col-xs-4 fixed-box-height guide-card\">\n",
            "<a href=\"/cars/637000\"><img alt=\"مرسيدس\" class=\"img-thumbnail\" src=\"/uploads/picture/car/name/838016/thumb_818DE0FD-CEA2-4F58-B712-A571505261EE.jpeg\"/></a>\n",
            "<p class=\"section_title\">\n",
            "<a href=\"/cars/637000\">مرسيدس 250</a>\n",
            "</p>\n",
            "<div class=\"space_placeholder\"></div>\n",
            "<p class=\"second-info\">\n",
            "<a href=\"/cars/637000\">2013</a> - <a href=\"/cars/637000\">بني</a>\n",
            "</p>\n",
            "<p class=\"second-info\">\n",
            "<a href=\"/cars/637000\">170000</a> <i aria-hidden=\"true\" class=\"fa fa-ils\"></i>\n",
            "</p>\n",
            "<div class=\"space_placeholder\"></div>\n",
            "<p class=\"third-info\">\n",
            "<a href=\"/cars?q%5Bcity_id_eq%5D=8\">قلقيلية</a> -\n",
            "29-01-2020\n",
            "</p>\n",
            "</div>\n"
          ],
          "name": "stdout"
        }
      ]
    },
    {
      "cell_type": "markdown",
      "metadata": {
        "id": "bQh_OzbL0KSV",
        "colab_type": "text"
      },
      "source": [
        "Start a for loop to process car by car and extract the values of Car, Color, Year. We extract the individual values by accessing into the inner most tag with the value. "
      ]
    },
    {
      "cell_type": "code",
      "metadata": {
        "id": "MIE9i3y50Lmd",
        "colab_type": "code",
        "colab": {}
      },
      "source": [
        "# To process property by property by looping\n",
        "    web_content_list=[]\n",
        "    for item_header in placard_header:\n",
        "      \n",
        "      # To store the information to a dictionary\n",
        "      web_content_dict = {}    \n",
        "      \n",
        "      year_color = item_header.find(\"p\",{\"class\":\"second-info\"}).find_all(\"a\")\n",
        "      web_content_dict[\"Year\"] = year_color[0].text\n",
        "      web_content_dict[\"Color\"] = year_color[1].text      \n",
        "      web_content_dict[\"Car\"]=item_header.find(\"p\",{\"class\":\"section_title\"}).text\n",
        "      # To store the dictionary to into a list\n",
        "      web_content_list.append(web_content_dict)"
      ],
      "execution_count": 0,
      "outputs": []
    },
    {
      "cell_type": "markdown",
      "metadata": {
        "id": "hwNuYbi70Oxu",
        "colab_type": "text"
      },
      "source": [
        "Make a dataframe with the list and write the list to a csv file"
      ]
    },
    {
      "cell_type": "code",
      "metadata": {
        "id": "QTYaMqYq0QtL",
        "colab_type": "code",
        "colab": {
          "base_uri": "https://localhost:8080/",
          "height": 164
        },
        "outputId": "80868619-c845-4415-c4a4-981c0522cb11"
      },
      "source": [
        "df = pandas.DataFrame(web_content_list)\n",
        "with pd.option_context('display.max_rows', 5, 'display.max_columns', 5,'display.unicode.east_asian_width', True):  # more options can be specified also\n",
        "    print(df)\n",
        "\n",
        "\n",
        "\n",
        "# To write the dataframe to a csv file\n",
        "df.to_csv(\"Output.csv\")"
      ],
      "execution_count": 480,
      "outputs": [
        {
          "output_type": "stream",
          "text": [
            "    Year  Color                  Car\n",
            "0   2013    بني       \\nمرسيدس 250\\n\n",
            "1   2008   أسود  \\nستروين بيرلينجو\\n\n",
            "..   ...    ...                  ...\n",
            "28  2015  رصاصي         \\nسيت ليون\\n\n",
            "29  2016   كحلي   \\nسكودا اوكتافيا\\n\n",
            "\n",
            "[30 rows x 3 columns]\n"
          ],
          "name": "stdout"
        }
      ]
    },
    {
      "cell_type": "markdown",
      "metadata": {
        "deletable": true,
        "editable": true,
        "id": "9rFy55xmYfhc",
        "colab_type": "text"
      },
      "source": [
        "## Interacting with Web APIs"
      ]
    },
    {
      "cell_type": "markdown",
      "metadata": {
        "id": "vAGtx5FHJ5eq",
        "colab_type": "text"
      },
      "source": [
        "Many websites have public APIs providing data feeds via JSON or some other format.\n",
        "There are a number of ways to access these APIs from Python; one easy-to-use\n",
        "method that I recommend is the requests package.\n",
        "To find the last 30 GitHub issues for pandas on GitHub, we can make a GET HTTP\n",
        "request using the add-on requests library:"
      ]
    },
    {
      "cell_type": "code",
      "metadata": {
        "deletable": true,
        "editable": true,
        "id": "ReuOuTqKYfhc",
        "colab_type": "code",
        "colab": {
          "base_uri": "https://localhost:8080/",
          "height": 35
        },
        "outputId": "8a4726bc-d762-4ad0-fdcc-fe8e80dc6feb"
      },
      "source": [
        "import requests\n",
        "url = 'https://api.github.com/repos/pandas-dev/pandas/issues'\n",
        "resp = requests.get(url)\n",
        "resp"
      ],
      "execution_count": 483,
      "outputs": [
        {
          "output_type": "execute_result",
          "data": {
            "text/plain": [
              "<Response [200]>"
            ]
          },
          "metadata": {
            "tags": []
          },
          "execution_count": 483
        }
      ]
    },
    {
      "cell_type": "markdown",
      "metadata": {
        "id": "O48SYq4WJ9F2",
        "colab_type": "text"
      },
      "source": [
        "The Response object’s json method will return a dictionary containing JSON parsed\n",
        "into native Python objects:\n",
        "\n",
        "\n",
        "\n"
      ]
    },
    {
      "cell_type": "code",
      "metadata": {
        "deletable": true,
        "editable": true,
        "id": "s-1YheKiYfhf",
        "colab_type": "code",
        "colab": {
          "base_uri": "https://localhost:8080/",
          "height": 35
        },
        "outputId": "45aebed7-c753-444c-c944-b619d211d04f"
      },
      "source": [
        "data = resp.json()\n",
        "data[0]['title']"
      ],
      "execution_count": 484,
      "outputs": [
        {
          "output_type": "execute_result",
          "data": {
            "text/plain": [
              "'Last tick label not showing'"
            ]
          },
          "metadata": {
            "tags": []
          },
          "execution_count": 484
        }
      ]
    },
    {
      "cell_type": "markdown",
      "metadata": {
        "id": "NTB_khBdKOgC",
        "colab_type": "text"
      },
      "source": [
        "Each element in data is a dictionary containing all of the data found on a GitHub\n",
        "issue page (except for the comments). We can pass data directly to DataFrame and\n",
        "extract fields of interest:"
      ]
    },
    {
      "cell_type": "code",
      "metadata": {
        "deletable": true,
        "editable": true,
        "id": "Mt2lCuncYfhi",
        "colab_type": "code",
        "colab": {
          "base_uri": "https://localhost:8080/",
          "height": 1000
        },
        "outputId": "6e92bd34-4838-40fe-faef-2b03971dcb52"
      },
      "source": [
        "issues = pd.DataFrame(data)\n",
        "issues"
      ],
      "execution_count": 486,
      "outputs": [
        {
          "output_type": "execute_result",
          "data": {
            "text/html": [
              "<div>\n",
              "<style scoped>\n",
              "    .dataframe tbody tr th:only-of-type {\n",
              "        vertical-align: middle;\n",
              "    }\n",
              "\n",
              "    .dataframe tbody tr th {\n",
              "        vertical-align: top;\n",
              "    }\n",
              "\n",
              "    .dataframe thead th {\n",
              "        text-align: right;\n",
              "    }\n",
              "</style>\n",
              "<table border=\"1\" class=\"dataframe\">\n",
              "  <thead>\n",
              "    <tr style=\"text-align: right;\">\n",
              "      <th></th>\n",
              "      <th>url</th>\n",
              "      <th>repository_url</th>\n",
              "      <th>labels_url</th>\n",
              "      <th>comments_url</th>\n",
              "      <th>events_url</th>\n",
              "      <th>html_url</th>\n",
              "      <th>id</th>\n",
              "      <th>node_id</th>\n",
              "      <th>number</th>\n",
              "      <th>title</th>\n",
              "      <th>user</th>\n",
              "      <th>labels</th>\n",
              "      <th>state</th>\n",
              "      <th>locked</th>\n",
              "      <th>assignee</th>\n",
              "      <th>assignees</th>\n",
              "      <th>milestone</th>\n",
              "      <th>comments</th>\n",
              "      <th>created_at</th>\n",
              "      <th>updated_at</th>\n",
              "      <th>closed_at</th>\n",
              "      <th>author_association</th>\n",
              "      <th>body</th>\n",
              "      <th>pull_request</th>\n",
              "    </tr>\n",
              "  </thead>\n",
              "  <tbody>\n",
              "    <tr>\n",
              "      <th>0</th>\n",
              "      <td>https://api.github.com/repos/pandas-dev/pandas...</td>\n",
              "      <td>https://api.github.com/repos/pandas-dev/pandas</td>\n",
              "      <td>https://api.github.com/repos/pandas-dev/pandas...</td>\n",
              "      <td>https://api.github.com/repos/pandas-dev/pandas...</td>\n",
              "      <td>https://api.github.com/repos/pandas-dev/pandas...</td>\n",
              "      <td>https://github.com/pandas-dev/pandas/issues/31548</td>\n",
              "      <td>558581266</td>\n",
              "      <td>MDU6SXNzdWU1NTg1ODEyNjY=</td>\n",
              "      <td>31548</td>\n",
              "      <td>Last tick label not showing</td>\n",
              "      <td>{'login': 'MarcoGorelli', 'id': 33491632, 'nod...</td>\n",
              "      <td>[]</td>\n",
              "      <td>open</td>\n",
              "      <td>False</td>\n",
              "      <td>None</td>\n",
              "      <td>[]</td>\n",
              "      <td>None</td>\n",
              "      <td>0</td>\n",
              "      <td>2020-02-01T18:53:55Z</td>\n",
              "      <td>2020-02-01T18:55:12Z</td>\n",
              "      <td>None</td>\n",
              "      <td>MEMBER</td>\n",
              "      <td>Noticed while working on #31207\\r\\n\\r\\n#### Co...</td>\n",
              "      <td>NaN</td>\n",
              "    </tr>\n",
              "    <tr>\n",
              "      <th>1</th>\n",
              "      <td>https://api.github.com/repos/pandas-dev/pandas...</td>\n",
              "      <td>https://api.github.com/repos/pandas-dev/pandas</td>\n",
              "      <td>https://api.github.com/repos/pandas-dev/pandas...</td>\n",
              "      <td>https://api.github.com/repos/pandas-dev/pandas...</td>\n",
              "      <td>https://api.github.com/repos/pandas-dev/pandas...</td>\n",
              "      <td>https://github.com/pandas-dev/pandas/pull/31547</td>\n",
              "      <td>558579817</td>\n",
              "      <td>MDExOlB1bGxSZXF1ZXN0MzY5OTI2NzMw</td>\n",
              "      <td>31547</td>\n",
              "      <td>BUG: GH31142 Fix for combine.Series</td>\n",
              "      <td>{'login': 'jamesharrop', 'id': 20360366, 'node...</td>\n",
              "      <td>[]</td>\n",
              "      <td>open</td>\n",
              "      <td>False</td>\n",
              "      <td>None</td>\n",
              "      <td>[]</td>\n",
              "      <td>None</td>\n",
              "      <td>1</td>\n",
              "      <td>2020-02-01T18:41:35Z</td>\n",
              "      <td>2020-02-01T18:41:40Z</td>\n",
              "      <td>None</td>\n",
              "      <td>NONE</td>\n",
              "      <td>- [ ] closes #xxxx\\r\\n- [ ] tests added / pass...</td>\n",
              "      <td>{'url': 'https://api.github.com/repos/pandas-d...</td>\n",
              "    </tr>\n",
              "    <tr>\n",
              "      <th>2</th>\n",
              "      <td>https://api.github.com/repos/pandas-dev/pandas...</td>\n",
              "      <td>https://api.github.com/repos/pandas-dev/pandas</td>\n",
              "      <td>https://api.github.com/repos/pandas-dev/pandas...</td>\n",
              "      <td>https://api.github.com/repos/pandas-dev/pandas...</td>\n",
              "      <td>https://api.github.com/repos/pandas-dev/pandas...</td>\n",
              "      <td>https://github.com/pandas-dev/pandas/pull/31545</td>\n",
              "      <td>558562117</td>\n",
              "      <td>MDExOlB1bGxSZXF1ZXN0MzY5OTEzOTI0</td>\n",
              "      <td>31545</td>\n",
              "      <td>BUG&amp;TST: df.replace fail after converting to n...</td>\n",
              "      <td>{'login': 'charlesdong1991', 'id': 9269816, 'n...</td>\n",
              "      <td>[]</td>\n",
              "      <td>open</td>\n",
              "      <td>False</td>\n",
              "      <td>None</td>\n",
              "      <td>[]</td>\n",
              "      <td>None</td>\n",
              "      <td>1</td>\n",
              "      <td>2020-02-01T16:21:18Z</td>\n",
              "      <td>2020-02-01T16:22:27Z</td>\n",
              "      <td>None</td>\n",
              "      <td>MEMBER</td>\n",
              "      <td>- [x] closes #31517 \\r\\n- [x] tests added / pa...</td>\n",
              "      <td>{'url': 'https://api.github.com/repos/pandas-d...</td>\n",
              "    </tr>\n",
              "    <tr>\n",
              "      <th>3</th>\n",
              "      <td>https://api.github.com/repos/pandas-dev/pandas...</td>\n",
              "      <td>https://api.github.com/repos/pandas-dev/pandas</td>\n",
              "      <td>https://api.github.com/repos/pandas-dev/pandas...</td>\n",
              "      <td>https://api.github.com/repos/pandas-dev/pandas...</td>\n",
              "      <td>https://api.github.com/repos/pandas-dev/pandas...</td>\n",
              "      <td>https://github.com/pandas-dev/pandas/issues/31544</td>\n",
              "      <td>558557031</td>\n",
              "      <td>MDU6SXNzdWU1NTg1NTcwMzE=</td>\n",
              "      <td>31544</td>\n",
              "      <td>Reading with read_stata in chunks messes up ca...</td>\n",
              "      <td>{'login': 'toobaz', 'id': 1224492, 'node_id': ...</td>\n",
              "      <td>[{'id': 78527356, 'node_id': 'MDU6TGFiZWw3ODUy...</td>\n",
              "      <td>open</td>\n",
              "      <td>False</td>\n",
              "      <td>None</td>\n",
              "      <td>[]</td>\n",
              "      <td>None</td>\n",
              "      <td>0</td>\n",
              "      <td>2020-02-01T15:39:57Z</td>\n",
              "      <td>2020-02-01T15:40:17Z</td>\n",
              "      <td>None</td>\n",
              "      <td>MEMBER</td>\n",
              "      <td>#### Code Sample, a copy-pastable example if p...</td>\n",
              "      <td>NaN</td>\n",
              "    </tr>\n",
              "    <tr>\n",
              "      <th>4</th>\n",
              "      <td>https://api.github.com/repos/pandas-dev/pandas...</td>\n",
              "      <td>https://api.github.com/repos/pandas-dev/pandas</td>\n",
              "      <td>https://api.github.com/repos/pandas-dev/pandas...</td>\n",
              "      <td>https://api.github.com/repos/pandas-dev/pandas...</td>\n",
              "      <td>https://api.github.com/repos/pandas-dev/pandas...</td>\n",
              "      <td>https://github.com/pandas-dev/pandas/pull/31543</td>\n",
              "      <td>558555180</td>\n",
              "      <td>MDExOlB1bGxSZXF1ZXN0MzY5OTA4OTI5</td>\n",
              "      <td>31543</td>\n",
              "      <td>Backport PR #31529 on branch 1.0.x (BUG: Serie...</td>\n",
              "      <td>{'login': 'meeseeksmachine', 'id': 39504233, '...</td>\n",
              "      <td>[{'id': 47223669, 'node_id': 'MDU6TGFiZWw0NzIy...</td>\n",
              "      <td>open</td>\n",
              "      <td>False</td>\n",
              "      <td>None</td>\n",
              "      <td>[]</td>\n",
              "      <td>{'url': 'https://api.github.com/repos/pandas-d...</td>\n",
              "      <td>0</td>\n",
              "      <td>2020-02-01T15:24:54Z</td>\n",
              "      <td>2020-02-01T15:29:04Z</td>\n",
              "      <td>None</td>\n",
              "      <td>NONE</td>\n",
              "      <td>Backport PR #31529: BUG: Series multiplication...</td>\n",
              "      <td>{'url': 'https://api.github.com/repos/pandas-d...</td>\n",
              "    </tr>\n",
              "    <tr>\n",
              "      <th>...</th>\n",
              "      <td>...</td>\n",
              "      <td>...</td>\n",
              "      <td>...</td>\n",
              "      <td>...</td>\n",
              "      <td>...</td>\n",
              "      <td>...</td>\n",
              "      <td>...</td>\n",
              "      <td>...</td>\n",
              "      <td>...</td>\n",
              "      <td>...</td>\n",
              "      <td>...</td>\n",
              "      <td>...</td>\n",
              "      <td>...</td>\n",
              "      <td>...</td>\n",
              "      <td>...</td>\n",
              "      <td>...</td>\n",
              "      <td>...</td>\n",
              "      <td>...</td>\n",
              "      <td>...</td>\n",
              "      <td>...</td>\n",
              "      <td>...</td>\n",
              "      <td>...</td>\n",
              "      <td>...</td>\n",
              "      <td>...</td>\n",
              "    </tr>\n",
              "    <tr>\n",
              "      <th>25</th>\n",
              "      <td>https://api.github.com/repos/pandas-dev/pandas...</td>\n",
              "      <td>https://api.github.com/repos/pandas-dev/pandas</td>\n",
              "      <td>https://api.github.com/repos/pandas-dev/pandas...</td>\n",
              "      <td>https://api.github.com/repos/pandas-dev/pandas...</td>\n",
              "      <td>https://api.github.com/repos/pandas-dev/pandas...</td>\n",
              "      <td>https://github.com/pandas-dev/pandas/pull/31512</td>\n",
              "      <td>558294723</td>\n",
              "      <td>MDExOlB1bGxSZXF1ZXN0MzY5NzExMzE3</td>\n",
              "      <td>31512</td>\n",
              "      <td>CLN: inherit PeriodIndex._box_func</td>\n",
              "      <td>{'login': 'jbrockmendel', 'id': 8078968, 'node...</td>\n",
              "      <td>[]</td>\n",
              "      <td>open</td>\n",
              "      <td>False</td>\n",
              "      <td>None</td>\n",
              "      <td>[]</td>\n",
              "      <td>None</td>\n",
              "      <td>0</td>\n",
              "      <td>2020-01-31T18:23:53Z</td>\n",
              "      <td>2020-01-31T18:23:53Z</td>\n",
              "      <td>None</td>\n",
              "      <td>MEMBER</td>\n",
              "      <td></td>\n",
              "      <td>{'url': 'https://api.github.com/repos/pandas-d...</td>\n",
              "    </tr>\n",
              "    <tr>\n",
              "      <th>26</th>\n",
              "      <td>https://api.github.com/repos/pandas-dev/pandas...</td>\n",
              "      <td>https://api.github.com/repos/pandas-dev/pandas</td>\n",
              "      <td>https://api.github.com/repos/pandas-dev/pandas...</td>\n",
              "      <td>https://api.github.com/repos/pandas-dev/pandas...</td>\n",
              "      <td>https://api.github.com/repos/pandas-dev/pandas...</td>\n",
              "      <td>https://github.com/pandas-dev/pandas/pull/31511</td>\n",
              "      <td>558294700</td>\n",
              "      <td>MDExOlB1bGxSZXF1ZXN0MzY5NzExMjk1</td>\n",
              "      <td>31511</td>\n",
              "      <td>BUG: fix reindexing with a tz-aware index and ...</td>\n",
              "      <td>{'login': 'kanderso-nrel', 'id': 57452607, 'no...</td>\n",
              "      <td>[{'id': 2822098, 'node_id': 'MDU6TGFiZWwyODIyM...</td>\n",
              "      <td>open</td>\n",
              "      <td>False</td>\n",
              "      <td>None</td>\n",
              "      <td>[]</td>\n",
              "      <td>None</td>\n",
              "      <td>3</td>\n",
              "      <td>2020-01-31T18:23:51Z</td>\n",
              "      <td>2020-01-31T22:42:12Z</td>\n",
              "      <td>None</td>\n",
              "      <td>NONE</td>\n",
              "      <td>- [x] closes #26683\\r\\n- [x] tests added / pas...</td>\n",
              "      <td>{'url': 'https://api.github.com/repos/pandas-d...</td>\n",
              "    </tr>\n",
              "    <tr>\n",
              "      <th>27</th>\n",
              "      <td>https://api.github.com/repos/pandas-dev/pandas...</td>\n",
              "      <td>https://api.github.com/repos/pandas-dev/pandas</td>\n",
              "      <td>https://api.github.com/repos/pandas-dev/pandas...</td>\n",
              "      <td>https://api.github.com/repos/pandas-dev/pandas...</td>\n",
              "      <td>https://api.github.com/repos/pandas-dev/pandas...</td>\n",
              "      <td>https://github.com/pandas-dev/pandas/pull/31510</td>\n",
              "      <td>558286363</td>\n",
              "      <td>MDExOlB1bGxSZXF1ZXN0MzY5NzA0MjQy</td>\n",
              "      <td>31510</td>\n",
              "      <td>CLN: remove IndexEngine.set_value</td>\n",
              "      <td>{'login': 'jbrockmendel', 'id': 8078968, 'node...</td>\n",
              "      <td>[{'id': 211029535, 'node_id': 'MDU6TGFiZWwyMTE...</td>\n",
              "      <td>open</td>\n",
              "      <td>False</td>\n",
              "      <td>None</td>\n",
              "      <td>[]</td>\n",
              "      <td>None</td>\n",
              "      <td>0</td>\n",
              "      <td>2020-01-31T18:11:52Z</td>\n",
              "      <td>2020-02-01T16:49:38Z</td>\n",
              "      <td>None</td>\n",
              "      <td>MEMBER</td>\n",
              "      <td>made possible bc Series._values now returns DT...</td>\n",
              "      <td>{'url': 'https://api.github.com/repos/pandas-d...</td>\n",
              "    </tr>\n",
              "    <tr>\n",
              "      <th>28</th>\n",
              "      <td>https://api.github.com/repos/pandas-dev/pandas...</td>\n",
              "      <td>https://api.github.com/repos/pandas-dev/pandas</td>\n",
              "      <td>https://api.github.com/repos/pandas-dev/pandas...</td>\n",
              "      <td>https://api.github.com/repos/pandas-dev/pandas...</td>\n",
              "      <td>https://api.github.com/repos/pandas-dev/pandas...</td>\n",
              "      <td>https://github.com/pandas-dev/pandas/pull/31509</td>\n",
              "      <td>558277178</td>\n",
              "      <td>MDExOlB1bGxSZXF1ZXN0MzY5Njk2OTY3</td>\n",
              "      <td>31509</td>\n",
              "      <td>Dead JSON Code Cleanup</td>\n",
              "      <td>{'login': 'WillAyd', 'id': 609873, 'node_id': ...</td>\n",
              "      <td>[]</td>\n",
              "      <td>open</td>\n",
              "      <td>False</td>\n",
              "      <td>None</td>\n",
              "      <td>[]</td>\n",
              "      <td>None</td>\n",
              "      <td>1</td>\n",
              "      <td>2020-01-31T17:54:25Z</td>\n",
              "      <td>2020-01-31T18:13:15Z</td>\n",
              "      <td>None</td>\n",
              "      <td>MEMBER</td>\n",
              "      <td></td>\n",
              "      <td>{'url': 'https://api.github.com/repos/pandas-d...</td>\n",
              "    </tr>\n",
              "    <tr>\n",
              "      <th>29</th>\n",
              "      <td>https://api.github.com/repos/pandas-dev/pandas...</td>\n",
              "      <td>https://api.github.com/repos/pandas-dev/pandas</td>\n",
              "      <td>https://api.github.com/repos/pandas-dev/pandas...</td>\n",
              "      <td>https://api.github.com/repos/pandas-dev/pandas...</td>\n",
              "      <td>https://api.github.com/repos/pandas-dev/pandas...</td>\n",
              "      <td>https://github.com/pandas-dev/pandas/pull/31508</td>\n",
              "      <td>558276650</td>\n",
              "      <td>MDExOlB1bGxSZXF1ZXN0MzY5Njk2NTc1</td>\n",
              "      <td>31508</td>\n",
              "      <td>JSON Set Name Cleanup</td>\n",
              "      <td>{'login': 'WillAyd', 'id': 609873, 'node_id': ...</td>\n",
              "      <td>[]</td>\n",
              "      <td>open</td>\n",
              "      <td>False</td>\n",
              "      <td>None</td>\n",
              "      <td>[]</td>\n",
              "      <td>None</td>\n",
              "      <td>3</td>\n",
              "      <td>2020-01-31T17:53:15Z</td>\n",
              "      <td>2020-01-31T22:08:01Z</td>\n",
              "      <td>None</td>\n",
              "      <td>MEMBER</td>\n",
              "      <td>Makes this consistent with List, Tuple\\r\\n</td>\n",
              "      <td>{'url': 'https://api.github.com/repos/pandas-d...</td>\n",
              "    </tr>\n",
              "  </tbody>\n",
              "</table>\n",
              "<p>30 rows × 24 columns</p>\n",
              "</div>"
            ],
            "text/plain": [
              "                                                  url  ...                                       pull_request\n",
              "0   https://api.github.com/repos/pandas-dev/pandas...  ...                                                NaN\n",
              "1   https://api.github.com/repos/pandas-dev/pandas...  ...  {'url': 'https://api.github.com/repos/pandas-d...\n",
              "2   https://api.github.com/repos/pandas-dev/pandas...  ...  {'url': 'https://api.github.com/repos/pandas-d...\n",
              "3   https://api.github.com/repos/pandas-dev/pandas...  ...                                                NaN\n",
              "4   https://api.github.com/repos/pandas-dev/pandas...  ...  {'url': 'https://api.github.com/repos/pandas-d...\n",
              "..                                                ...  ...                                                ...\n",
              "25  https://api.github.com/repos/pandas-dev/pandas...  ...  {'url': 'https://api.github.com/repos/pandas-d...\n",
              "26  https://api.github.com/repos/pandas-dev/pandas...  ...  {'url': 'https://api.github.com/repos/pandas-d...\n",
              "27  https://api.github.com/repos/pandas-dev/pandas...  ...  {'url': 'https://api.github.com/repos/pandas-d...\n",
              "28  https://api.github.com/repos/pandas-dev/pandas...  ...  {'url': 'https://api.github.com/repos/pandas-d...\n",
              "29  https://api.github.com/repos/pandas-dev/pandas...  ...  {'url': 'https://api.github.com/repos/pandas-d...\n",
              "\n",
              "[30 rows x 24 columns]"
            ]
          },
          "metadata": {
            "tags": []
          },
          "execution_count": 486
        }
      ]
    },
    {
      "cell_type": "markdown",
      "metadata": {
        "deletable": true,
        "editable": true,
        "id": "kjxx8TbFYfhl",
        "colab_type": "text"
      },
      "source": [
        "## Interacting with Databases"
      ]
    },
    {
      "cell_type": "code",
      "metadata": {
        "deletable": true,
        "editable": true,
        "id": "DudCLjQKYfhm",
        "colab_type": "code",
        "colab": {}
      },
      "source": [
        "import sqlite3\n",
        "query = \"\"\"\n",
        "CREATE TABLE test\n",
        "(a VARCHAR(20), b VARCHAR(20),\n",
        " c REAL,        d INTEGER\n",
        ");\"\"\"\n",
        "con = sqlite3.connect('mydata.sqlite')\n",
        "con.execute(query)\n",
        "con.commit()"
      ],
      "execution_count": 0,
      "outputs": []
    },
    {
      "cell_type": "code",
      "metadata": {
        "deletable": true,
        "editable": true,
        "id": "iwGkGJcxYfhp",
        "colab_type": "code",
        "colab": {}
      },
      "source": [
        "data = [('Atlanta', 'Georgia', 1.25, 6),\n",
        "        ('Tallahassee', 'Florida', 2.6, 3),\n",
        "        ('Sacramento', 'California', 1.7, 5)]\n",
        "stmt = \"INSERT INTO test VALUES(?, ?, ?, ?)\"\n",
        "con.executemany(stmt, data)\n",
        "con.commit()"
      ],
      "execution_count": 0,
      "outputs": []
    },
    {
      "cell_type": "code",
      "metadata": {
        "deletable": true,
        "editable": true,
        "id": "cRjFEMv7Yfht",
        "colab_type": "code",
        "colab": {}
      },
      "source": [
        "cursor = con.execute('select * from test')\n",
        "rows = cursor.fetchall()\n",
        "rows"
      ],
      "execution_count": 0,
      "outputs": []
    },
    {
      "cell_type": "code",
      "metadata": {
        "deletable": true,
        "editable": true,
        "id": "SjghT_5AYfhv",
        "colab_type": "code",
        "colab": {}
      },
      "source": [
        "cursor.description\n",
        "pd.DataFrame(rows, columns=[x[0] for x in cursor.description])"
      ],
      "execution_count": 0,
      "outputs": []
    },
    {
      "cell_type": "code",
      "metadata": {
        "deletable": true,
        "editable": true,
        "id": "lBfOKP3aYfh-",
        "colab_type": "code",
        "colab": {}
      },
      "source": [
        "import sqlalchemy as sqla\n",
        "db = sqla.create_engine('sqlite:///mydata.sqlite')\n",
        "pd.read_sql('select * from test', db)"
      ],
      "execution_count": 0,
      "outputs": []
    },
    {
      "cell_type": "code",
      "metadata": {
        "deletable": true,
        "editable": true,
        "id": "NYy6sqDzYfiA",
        "colab_type": "code",
        "colab": {}
      },
      "source": [
        "!rm mydata.sqlite"
      ],
      "execution_count": 0,
      "outputs": []
    },
    {
      "cell_type": "markdown",
      "metadata": {
        "deletable": true,
        "editable": true,
        "id": "KalgP4UDYfiD",
        "colab_type": "text"
      },
      "source": [
        "## Conclusion"
      ]
    }
  ]
}